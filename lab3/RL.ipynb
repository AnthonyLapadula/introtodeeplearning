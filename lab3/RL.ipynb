{
 "cells": [
  {
   "cell_type": "markdown",
   "metadata": {
    "colab_type": "text",
    "id": "view-in-github"
   },
   "source": [
    "<a href=\"https://colab.research.google.com/github/aamini/introtodeeplearning/blob/master/lab3/RL.ipynb\" target=\"_parent\"><img src=\"https://colab.research.google.com/assets/colab-badge.svg\" alt=\"Open In Colab\"/></a>"
   ]
  },
  {
   "cell_type": "markdown",
   "metadata": {
    "id": "jrI6q7RmWQam"
   },
   "source": [
    "<table align=\"center\">\n",
    "  <td align=\"center\"><a target=\"_blank\" href=\"http://introtodeeplearning.com\">\n",
    "        <img src=\"https://i.ibb.co/Jr88sn2/mit.png\" style=\"padding-bottom:5px;\" />\n",
    "      Visit MIT Deep Learning</a></td>\n",
    "  <td align=\"center\"><a target=\"_blank\" href=\"https://colab.research.google.com/github/aamini/introtodeeplearning/blob/master/lab3/RL.ipynb\">\n",
    "        <img src=\"https://i.ibb.co/2P3SLwK/colab.png\"  style=\"padding-bottom:5px;\" />Run in Google Colab</a></td>\n",
    "  <td align=\"center\"><a target=\"_blank\" href=\"https://github.com/aamini/introtodeeplearning/blob/master/lab3/RL.ipynb\">\n",
    "        <img src=\"https://i.ibb.co/xfJbPmL/github.png\"  height=\"70px\" style=\"padding-bottom:5px;\"  />View Source on GitHub</a></td>\n",
    "</table>\n",
    "\n",
    "# Copyright Information"
   ]
  },
  {
   "cell_type": "code",
   "execution_count": 1,
   "metadata": {
    "id": "wkd375upWYok"
   },
   "outputs": [],
   "source": [
    "# Copyright 2022 MIT 6.S191 Introduction to Deep Learning. All Rights Reserved.\n",
    "# \n",
    "# Licensed under the MIT License. You may not use this file except in compliance\n",
    "# with the License. Use and/or modification of this code outside of 6.S191 must\n",
    "# reference:\n",
    "#\n",
    "# © MIT 6.S191: Introduction to Deep Learning\n",
    "# http://introtodeeplearning.com\n",
    "#"
   ]
  },
  {
   "cell_type": "markdown",
   "metadata": {
    "id": "WoXYKhfZMHiw"
   },
   "source": [
    "# Laboratory 3: Reinforcement Learning\n",
    "\n",
    "Reinforcement learning (RL) is a subset of machine learning which poses learning problems as interactions between agents and environments. It often assumes agents have no prior knowledge of a world, so they must learn to navigate environments by optimizing a reward function. Within an environment, an agent can take certain actions and receive feedback, in the form of positive or negative rewards, with respect to their decision. As such, an agent's feedback loop is somewhat akin to the idea of \"trial and error\", or the manner in which a child might learn to distinguish between \"good\" and \"bad\" actions.\n",
    "\n",
    "In practical terms, our RL agent will interact with the environment by taking an action at each timestep, receiving a corresponding reward, and updating its state according to what it has \"learned\".  \n",
    "\n",
    "![alt text](https://www.kdnuggets.com/images/reinforcement-learning-fig1-700.jpg)\n",
    "\n",
    "While the ultimate goal of reinforcement learning is to teach agents to act in the real, physical world, simulated environments -- like games and simulation engines -- provide a convenient proving ground for developing RL algorithms and agents.\n",
    "\n",
    "In previous labs, we have explored both supervised (with LSTMs, CNNs) and unsupervised / semi-supervised (with VAEs) learning tasks. Reinforcement learning is fundamentally different, in that we are training a deep learning algorithm to govern the actions of our RL agent, that is trying, within its environment, to find the optimal way to achieve a goal. The goal of training an RL agent is to determine the best next step to take to earn the greatest final payoff or return. In this lab, we focus on building a reinforcement learning algorithm to master two different environments with varying complexity. \n",
    "\n",
    "1.   **Cartpole**:   Balance a pole, protruding from a cart, in an upright position by only moving the base left or right. Environment with a low-dimensional observation space.\n",
    "2.   [**Driving in VISTA**](https://www.mit.edu/~amini/pubs/pdf/learning-in-simulation-vista.pdf): Learn a driving control policy for an autonomous vehicle, end-to-end from raw pixel inputs and entirely in the data-driven simulation environment of VISTA. Environment with a high-dimensional observation space -- learning directly from raw pixels.\n",
    "\n",
    "Let's get started! First we'll import TensorFlow, the course package, and some dependencies.\n"
   ]
  },
  {
   "cell_type": "code",
   "execution_count": 2,
   "metadata": {
    "id": "KR9QHuleJ9Bh"
   },
   "outputs": [
    {
     "name": "stdout",
     "output_type": "stream",
     "text": [
      "Installing MIT deep learning package... "
     ]
    },
    {
     "name": "stderr",
     "output_type": "stream",
     "text": [
      "2022-03-28 15:50:53.617959: I tensorflow/stream_executor/cuda/cuda_gpu_executor.cc:922] could not open file to read NUMA node: /sys/bus/pci/devices/0000:01:00.0/numa_node\n",
      "Your kernel may have been built without NUMA support.\n",
      "2022-03-28 15:50:53.674396: I tensorflow/stream_executor/cuda/cuda_gpu_executor.cc:922] could not open file to read NUMA node: /sys/bus/pci/devices/0000:01:00.0/numa_node\n",
      "Your kernel may have been built without NUMA support.\n",
      "2022-03-28 15:50:53.675262: I tensorflow/stream_executor/cuda/cuda_gpu_executor.cc:922] could not open file to read NUMA node: /sys/bus/pci/devices/0000:01:00.0/numa_node\n",
      "Your kernel may have been built without NUMA support.\n"
     ]
    },
    {
     "name": "stdout",
     "output_type": "stream",
     "text": [
      "Collecting git+https://github.com/aamini/introtodeeplearning.git\n",
      "  Cloning https://github.com/aamini/introtodeeplearning.git to /tmp/pip-req-build-rrfobv56\n",
      "  Running command git clone --filter=blob:none --quiet https://github.com/aamini/introtodeeplearning.git /tmp/pip-req-build-rrfobv56\n",
      "  Resolved https://github.com/aamini/introtodeeplearning.git to commit b47b452b44b762c1a7892db1d075af39992d0d20\n",
      "  Preparing metadata (setup.py) ... \u001b[?25ldone\n",
      "\u001b[?25hRequirement already satisfied: gym in /home/an21709/Data/lapadula-git/AI-ML/pyenvs/ai-ml-venv/lib/python3.8/site-packages (from mitdeeplearning==0.2.0) (0.22.0)\n",
      "Requirement already satisfied: numpy in /home/an21709/Data/lapadula-git/AI-ML/pyenvs/ai-ml-venv/lib/python3.8/site-packages (from mitdeeplearning==0.2.0) (1.22.2)\n",
      "Requirement already satisfied: regex in /home/an21709/Data/lapadula-git/AI-ML/pyenvs/ai-ml-venv/lib/python3.8/site-packages (from mitdeeplearning==0.2.0) (2022.3.15)\n",
      "Requirement already satisfied: tqdm in /home/an21709/Data/lapadula-git/AI-ML/pyenvs/ai-ml-venv/lib/python3.8/site-packages (from mitdeeplearning==0.2.0) (4.62.3)\n",
      "Requirement already satisfied: cloudpickle>=1.2.0 in /home/an21709/Data/lapadula-git/AI-ML/pyenvs/ai-ml-venv/lib/python3.8/site-packages (from gym->mitdeeplearning==0.2.0) (2.0.0)\n",
      "Requirement already satisfied: importlib-metadata>=4.10.0 in /home/an21709/Data/lapadula-git/AI-ML/pyenvs/ai-ml-venv/lib/python3.8/site-packages (from gym->mitdeeplearning==0.2.0) (4.11.1)\n",
      "Requirement already satisfied: gym-notices>=0.0.4 in /home/an21709/Data/lapadula-git/AI-ML/pyenvs/ai-ml-venv/lib/python3.8/site-packages (from gym->mitdeeplearning==0.2.0) (0.0.4)\n",
      "Requirement already satisfied: zipp>=0.5 in /home/an21709/Data/lapadula-git/AI-ML/pyenvs/ai-ml-venv/lib/python3.8/site-packages (from importlib-metadata>=4.10.0->gym->mitdeeplearning==0.2.0) (3.7.0)\n",
      "Done\n"
     ]
    }
   ],
   "source": [
    "# Import Tensorflow 2.0\n",
    "#%tensorflow_version 2.x\n",
    "import tensorflow as tf\n",
    "\n",
    "gpus = tf.config.experimental.list_physical_devices('GPU')\n",
    "if gpus:\n",
    "    for gpu in gpus:\n",
    "        tf.config.experimental.set_memory_growth(gpu, True)\n",
    "\n",
    "# Download and import the MIT 6.S191 package\n",
    "!printf \"Installing MIT deep learning package... \"\n",
    "!pip install --upgrade git+https://github.com/aamini/introtodeeplearning.git #&> /dev/null\n",
    "!echo \"Done\""
   ]
  },
  {
   "cell_type": "code",
   "execution_count": 3,
   "metadata": {
    "id": "EvdePP-VyVWp"
   },
   "outputs": [
    {
     "name": "stdout",
     "output_type": "stream",
     "text": [
      "Requirement already satisfied: gym in /home/an21709/Data/lapadula-git/AI-ML/pyenvs/ai-ml-venv/lib/python3.8/site-packages (0.22.0)\n",
      "Requirement already satisfied: pyvirtualdisplay in /home/an21709/Data/lapadula-git/AI-ML/pyenvs/ai-ml-venv/lib/python3.8/site-packages (3.0)\n",
      "Requirement already satisfied: scikit-video in /home/an21709/Data/lapadula-git/AI-ML/pyenvs/ai-ml-venv/lib/python3.8/site-packages (1.1.11)\n",
      "Requirement already satisfied: ffio in /home/an21709/Data/lapadula-git/AI-ML/pyenvs/ai-ml-venv/lib/python3.8/site-packages (0.1.0)\n",
      "Requirement already satisfied: pyrender in /home/an21709/Data/lapadula-git/AI-ML/pyenvs/ai-ml-venv/lib/python3.8/site-packages (0.1.45)\n",
      "Requirement already satisfied: gym-notices>=0.0.4 in /home/an21709/Data/lapadula-git/AI-ML/pyenvs/ai-ml-venv/lib/python3.8/site-packages (from gym) (0.0.4)\n",
      "Requirement already satisfied: cloudpickle>=1.2.0 in /home/an21709/Data/lapadula-git/AI-ML/pyenvs/ai-ml-venv/lib/python3.8/site-packages (from gym) (2.0.0)\n",
      "Requirement already satisfied: importlib-metadata>=4.10.0 in /home/an21709/Data/lapadula-git/AI-ML/pyenvs/ai-ml-venv/lib/python3.8/site-packages (from gym) (4.11.1)\n",
      "Requirement already satisfied: numpy>=1.18.0 in /home/an21709/Data/lapadula-git/AI-ML/pyenvs/ai-ml-venv/lib/python3.8/site-packages (from gym) (1.22.2)\n",
      "Requirement already satisfied: pillow in /home/an21709/Data/lapadula-git/AI-ML/pyenvs/ai-ml-venv/lib/python3.8/site-packages (from scikit-video) (9.0.1)\n",
      "Requirement already satisfied: scipy in /home/an21709/Data/lapadula-git/AI-ML/pyenvs/ai-ml-venv/lib/python3.8/site-packages (from scikit-video) (1.8.0)\n",
      "Requirement already satisfied: six in /home/an21709/Data/lapadula-git/AI-ML/pyenvs/ai-ml-venv/lib/python3.8/site-packages (from pyrender) (1.16.0)\n",
      "Requirement already satisfied: PyOpenGL==3.1.0 in /home/an21709/Data/lapadula-git/AI-ML/pyenvs/ai-ml-venv/lib/python3.8/site-packages (from pyrender) (3.1.0)\n",
      "Requirement already satisfied: imageio in /home/an21709/Data/lapadula-git/AI-ML/pyenvs/ai-ml-venv/lib/python3.8/site-packages (from pyrender) (2.16.1)\n",
      "Requirement already satisfied: networkx in /home/an21709/Data/lapadula-git/AI-ML/pyenvs/ai-ml-venv/lib/python3.8/site-packages (from pyrender) (2.7.1)\n",
      "Requirement already satisfied: freetype-py in /home/an21709/Data/lapadula-git/AI-ML/pyenvs/ai-ml-venv/lib/python3.8/site-packages (from pyrender) (2.2.0)\n",
      "Requirement already satisfied: pyglet>=1.4.10 in /home/an21709/Data/lapadula-git/AI-ML/pyenvs/ai-ml-venv/lib/python3.8/site-packages (from pyrender) (1.5.23)\n",
      "Requirement already satisfied: trimesh in /home/an21709/Data/lapadula-git/AI-ML/pyenvs/ai-ml-venv/lib/python3.8/site-packages (from pyrender) (3.10.7)\n",
      "Requirement already satisfied: zipp>=0.5 in /home/an21709/Data/lapadula-git/AI-ML/pyenvs/ai-ml-venv/lib/python3.8/site-packages (from importlib-metadata>=4.10.0->gym) (3.7.0)\n",
      "Requirement already satisfied: tensorflow_probability==0.12.0 in /home/an21709/Data/lapadula-git/AI-ML/pyenvs/ai-ml-venv/lib/python3.8/site-packages (0.12.0)\n",
      "Requirement already satisfied: numpy>=1.13.3 in /home/an21709/Data/lapadula-git/AI-ML/pyenvs/ai-ml-venv/lib/python3.8/site-packages (from tensorflow_probability==0.12.0) (1.22.2)\n",
      "Requirement already satisfied: gast>=0.3.2 in /home/an21709/Data/lapadula-git/AI-ML/pyenvs/ai-ml-venv/lib/python3.8/site-packages (from tensorflow_probability==0.12.0) (0.5.3)\n",
      "Requirement already satisfied: cloudpickle>=1.3 in /home/an21709/Data/lapadula-git/AI-ML/pyenvs/ai-ml-venv/lib/python3.8/site-packages (from tensorflow_probability==0.12.0) (2.0.0)\n",
      "Requirement already satisfied: decorator in /home/an21709/Data/lapadula-git/AI-ML/pyenvs/ai-ml-venv/lib/python3.8/site-packages (from tensorflow_probability==0.12.0) (5.1.1)\n",
      "Requirement already satisfied: six>=1.10.0 in /home/an21709/Data/lapadula-git/AI-ML/pyenvs/ai-ml-venv/lib/python3.8/site-packages (from tensorflow_probability==0.12.0) (1.16.0)\n",
      "Requirement already satisfied: dm-tree in /home/an21709/Data/lapadula-git/AI-ML/pyenvs/ai-ml-venv/lib/python3.8/site-packages (from tensorflow_probability==0.12.0) (0.1.6)\n"
     ]
    },
    {
     "name": "stderr",
     "output_type": "stream",
     "text": [
      "\n"
     ]
    }
   ],
   "source": [
    "#Install some dependencies for visualizing the agents\n",
    "#!apt-get install -y xvfb python-opengl x11-utils #&> /dev/null\n",
    "!pip install gym pyvirtualdisplay scikit-video ffio pyrender #&> /dev/null\n",
    "!pip install tensorflow_probability==0.12.0 #&> /dev/null\n",
    "import os\n",
    "os.environ['PYOPENGL_PLATFORM'] = 'egl'\n",
    "\n",
    "import numpy as np\n",
    "import matplotlib, cv2\n",
    "import matplotlib.pyplot as plt\n",
    "import base64, io, os, time, gym\n",
    "import IPython, functools\n",
    "import time\n",
    "from tqdm import tqdm\n",
    "import tensorflow_probability as tfp\n",
    "\n",
    "import mitdeeplearning as mdl"
   ]
  },
  {
   "cell_type": "markdown",
   "metadata": {
    "id": "zmrHSiXKTXTY"
   },
   "source": [
    "Before we dive in, let's take a step back and outline our approach, which is generally applicable to reinforcement learning problems in general:\n",
    "\n",
    "1. **Initialize our environment and our agent**: here we will describe the different observations and actions the agent can make in the environemnt.\n",
    "2. **Define our agent's memory**: this will enable the agent to remember its past actions, observations, and rewards.\n",
    "3. **Define a reward function**: describes the reward associated with an action or sequence of actions.\n",
    "4. **Define the learning algorithm**: this will be used to reinforce the agent's good behaviors and discourage bad behaviors.\n"
   ]
  },
  {
   "cell_type": "markdown",
   "metadata": {
    "id": "UT7YL8KBJIIc"
   },
   "source": [
    "# Part 1: Cartpole\n",
    "\n",
    "## 3.1 Define the Cartpole environment and agent\n",
    "\n",
    "### Environment \n",
    "\n",
    "In order to model the environment for the Cartpole task, we'll be using a toolkit developed by OpenAI called [OpenAI Gym](https://gym.openai.com/). It provides several pre-defined environments for training and testing reinforcement learning agents, including those for classic physics control tasks, Atari video games, and robotic simulations. To access the Cartpole environment, we can use `env = gym.make(\"CartPole-v0\")`, which we gained access to when we imported the `gym` package. We can instantiate different [environments](https://gym.openai.com/envs/#classic_control) by passing the enivronment name to the `make` function.\n",
    "\n",
    "One issue we might experience when developing RL algorithms is that many aspects of the learning process are inherently random: initializing game states, changes in the environment, and the agent's actions. As such, it can be helpful to set a initial \"seed\" for the environment to ensure some level of reproducibility. Much like you might use `numpy.random.seed`, we can call the comparable function in gym, `seed`, with our defined environment to ensure the environment's random variables are initialized the same each time."
   ]
  },
  {
   "cell_type": "code",
   "execution_count": 4,
   "metadata": {
    "id": "quv9SC0iIYFm"
   },
   "outputs": [
    {
     "data": {
      "text/plain": [
       "[1]"
      ]
     },
     "execution_count": 4,
     "metadata": {},
     "output_type": "execute_result"
    }
   ],
   "source": [
    "### Instantiate the Cartpole environment ###\n",
    "\n",
    "env = gym.make(\"CartPole-v1\")\n",
    "env.seed(1)"
   ]
  },
  {
   "cell_type": "markdown",
   "metadata": {
    "id": "mhEITUcKK455"
   },
   "source": [
    "In Cartpole, a pole is attached by an un-actuated joint to a cart, which moves along a frictionless track. The pole starts upright, and the goal is to prevent it from falling over. The system is controlled by applying a force of +1 or -1 to the cart. A reward of +1 is provided for every timestep that the pole remains upright. The episode ends when the pole is more than 15 degrees from vertical, or the cart moves more than 2.4 units from the center of the track. A visual summary of the cartpole environment is depicted below:\n",
    "\n",
    "<img width=\"400px\" src=\"https://danielpiedrahita.files.wordpress.com/2017/02/cart-pole.png\"></img>\n",
    "\n",
    "Given this setup for the environment and the objective of the game, we can think about: 1) what observations help define the environment's state; 2) what actions the agent can take. \n",
    "\n",
    "First, let's consider the observation space. In this Cartpole environment our observations are:\n",
    "\n",
    "1. Cart position\n",
    "2. Cart velocity\n",
    "3. Pole angle\n",
    "4. Pole rotation rate\n",
    "\n",
    "We can confirm the size of the space by querying the environment's observation space:\n"
   ]
  },
  {
   "cell_type": "code",
   "execution_count": 5,
   "metadata": {
    "id": "UVJaEcbdIX82"
   },
   "outputs": [
    {
     "name": "stdout",
     "output_type": "stream",
     "text": [
      "Environment has observation space = Box([-4.8000002e+00 -3.4028235e+38 -4.1887903e-01 -3.4028235e+38], [4.8000002e+00 3.4028235e+38 4.1887903e-01 3.4028235e+38], (4,), float32)\n"
     ]
    }
   ],
   "source": [
    "n_observations = env.observation_space\n",
    "print(\"Environment has observation space =\", n_observations)"
   ]
  },
  {
   "cell_type": "markdown",
   "metadata": {
    "id": "ZibGgjrALgPM"
   },
   "source": [
    "Second, we consider the action space. At every time step, the agent can move either right or left. Again we can confirm the size of the action space by querying the environment:"
   ]
  },
  {
   "cell_type": "code",
   "execution_count": 6,
   "metadata": {
    "id": "qc9SIPxBIXrm"
   },
   "outputs": [
    {
     "name": "stdout",
     "output_type": "stream",
     "text": [
      "Number of possible actions that the agent can choose from = 2\n"
     ]
    }
   ],
   "source": [
    "n_actions = env.action_space.n\n",
    "print(\"Number of possible actions that the agent can choose from =\", n_actions)"
   ]
  },
  {
   "cell_type": "markdown",
   "metadata": {
    "id": "pPfHME8aRKkb"
   },
   "source": [
    "### Cartpole agent\n",
    "\n",
    "Now that we have instantiated the environment and understood the dimensionality of the observation and action spaces, we are ready to define our agent. In deep reinforcement learning, a deep neural network defines the agent. This network will take as input an observation of the environment and output the probability of taking each of the possible actions. Since Cartpole is defined by a low-dimensional observation space, a simple feed-forward neural network should work well for our agent. We will define this using the `Sequential` API.\n"
   ]
  },
  {
   "cell_type": "code",
   "execution_count": 7,
   "metadata": {
    "id": "W-o_XK4oQ4eu"
   },
   "outputs": [
    {
     "name": "stderr",
     "output_type": "stream",
     "text": [
      "2022-03-28 15:51:04.835852: I tensorflow/core/platform/cpu_feature_guard.cc:151] This TensorFlow binary is optimized with oneAPI Deep Neural Network Library (oneDNN) to use the following CPU instructions in performance-critical operations:  AVX2 FMA\n",
      "To enable them in other operations, rebuild TensorFlow with the appropriate compiler flags.\n",
      "2022-03-28 15:51:04.840776: I tensorflow/stream_executor/cuda/cuda_gpu_executor.cc:922] could not open file to read NUMA node: /sys/bus/pci/devices/0000:01:00.0/numa_node\n",
      "Your kernel may have been built without NUMA support.\n",
      "2022-03-28 15:51:04.842316: I tensorflow/stream_executor/cuda/cuda_gpu_executor.cc:922] could not open file to read NUMA node: /sys/bus/pci/devices/0000:01:00.0/numa_node\n",
      "Your kernel may have been built without NUMA support.\n",
      "2022-03-28 15:51:04.844033: I tensorflow/stream_executor/cuda/cuda_gpu_executor.cc:922] could not open file to read NUMA node: /sys/bus/pci/devices/0000:01:00.0/numa_node\n",
      "Your kernel may have been built without NUMA support.\n",
      "2022-03-28 15:51:05.912129: I tensorflow/stream_executor/cuda/cuda_gpu_executor.cc:922] could not open file to read NUMA node: /sys/bus/pci/devices/0000:01:00.0/numa_node\n",
      "Your kernel may have been built without NUMA support.\n",
      "2022-03-28 15:51:05.913170: I tensorflow/stream_executor/cuda/cuda_gpu_executor.cc:922] could not open file to read NUMA node: /sys/bus/pci/devices/0000:01:00.0/numa_node\n",
      "Your kernel may have been built without NUMA support.\n",
      "2022-03-28 15:51:05.913186: I tensorflow/core/common_runtime/gpu/gpu_device.cc:1609] Could not identify NUMA node of platform GPU id 0, defaulting to 0.  Your kernel may not have been built with NUMA support.\n",
      "2022-03-28 15:51:05.914203: I tensorflow/stream_executor/cuda/cuda_gpu_executor.cc:922] could not open file to read NUMA node: /sys/bus/pci/devices/0000:01:00.0/numa_node\n",
      "Your kernel may have been built without NUMA support.\n",
      "2022-03-28 15:51:05.914316: I tensorflow/core/common_runtime/gpu/gpu_device.cc:1525] Created device /job:localhost/replica:0/task:0/device:GPU:0 with 2998 MB memory:  -> device: 0, name: Quadro P4000, pci bus id: 0000:01:00.0, compute capability: 6.1\n"
     ]
    }
   ],
   "source": [
    "### Define the Cartpole agent ###\n",
    "\n",
    "# Defines a feed-forward neural network\n",
    "def create_cartpole_model():\n",
    "    model = tf.keras.models.Sequential([\n",
    "        # First Dense layer\n",
    "        tf.keras.layers.Dense(units=32, activation='relu'),\n",
    "        \n",
    "        # TODO: Define the last Dense layer, which will provide the network's output.\n",
    "        # Think about the space the agent needs to act in!\n",
    "        # ['''TODO''' Dense layer to output action probabilities]\n",
    "        tf.keras.layers.Dense(units=n_actions, activation=None)\n",
    "    ])\n",
    "    return model\n",
    "\n",
    "cartpole_model = create_cartpole_model()"
   ]
  },
  {
   "cell_type": "markdown",
   "metadata": {
    "id": "d5D5NSIYS2IW"
   },
   "source": [
    "Now that we have defined the core network architecture, we will define an *action function* that executes a forward pass through the network, given a set of observations, and samples from the output. This sampling from the output probabilities will be used to select the next action for the agent. We will also add support so that the `choose_action` function can handle either a single observation or a batch of observations.\n",
    "\n",
    "**Critically, this action function is totally general -- we will use this function for learning control algorithms for Cartpole, but it is applicable to other RL tasks, as well!**"
   ]
  },
  {
   "cell_type": "code",
   "execution_count": 8,
   "metadata": {
    "id": "E_vVZRr8Q4R_"
   },
   "outputs": [],
   "source": [
    "### Define the agent's action function ###\n",
    "\n",
    "# Function that takes observations as input, executes a forward pass through model, \n",
    "#   and outputs a sampled action.\n",
    "# Arguments:\n",
    "#   model: the network that defines our agent\n",
    "#   observation: observation(s) which is/are fed as input to the model\n",
    "#   single: flag as to whether we are handling a single observation or batch of\n",
    "#     observations, provided as an np.array\n",
    "# Returns:\n",
    "#   action: choice of agent action\n",
    "def choose_action(model, observation, single=True):\n",
    "    # add batch dimension to the observation if only a single example was provided\n",
    "    observation = np.expand_dims(observation, axis=0) if single else observation\n",
    "\n",
    "    '''TODO: feed the observations through the model to predict the log probabilities of each possible action.'''\n",
    "    logits = model.predict(observation)\n",
    "\n",
    "    '''TODO: Choose an action from the categorical distribution defined by the log \n",
    "       probabilities of each possible action.'''\n",
    "    action = tf.random.categorical(logits, num_samples=1)\n",
    "\n",
    "    action = action.numpy().flatten()\n",
    "\n",
    "    return action[0] if single else action"
   ]
  },
  {
   "cell_type": "markdown",
   "metadata": {
    "id": "_tR9uAWcTnkr"
   },
   "source": [
    "## 3.2 Define the agent's memory\n",
    "\n",
    "Now that we have instantiated the environment and defined the agent network architecture and action function, we are ready to move on to the next step in our RL workflow:\n",
    "1. **Initialize our environment and our agent**: here we will describe the different observations and actions the agent can make in the environemnt.\n",
    "2. **Define our agent's memory**: this will enable the agent to remember its past actions, observations, and rewards.\n",
    "3. **Define the learning algorithm**: this will be used to reinforce the agent's good behaviors and discourage bad behaviors.\n",
    "\n",
    "In reinforcement learning, training occurs alongside the agent's acting in the environment; an *episode* refers to a sequence of actions that ends in some terminal state, such as the pole falling down or the cart crashing. The agent will need to remember all of its observations and actions, such that once an episode ends, it can learn to \"reinforce\" the good actions and punish the undesirable actions via training. Our first step is to define a simple `Memory` buffer that contains the agent's observations, actions, and received rewards from a given episode. We will also add support to combine a list of `Memory` objects into a single `Memory`. This will be very useful for batching, which will help you accelerate training later on in the lab.\n",
    "\n",
    "**Once again, note the modularity of this memory buffer -- it can and will be applied to other RL tasks as well!**"
   ]
  },
  {
   "cell_type": "code",
   "execution_count": 9,
   "metadata": {
    "id": "8MM6JwXVQ4JG"
   },
   "outputs": [],
   "source": [
    "### Agent Memory ###\n",
    "\n",
    "class Memory:\n",
    "    def __init__(self): \n",
    "        self.clear()\n",
    "\n",
    "  # Resets/restarts the memory buffer\n",
    "    def clear(self): \n",
    "        self.observations = []\n",
    "        self.actions = []\n",
    "        self.rewards = []\n",
    "\n",
    "  # Add observations, actions, rewards to memory\n",
    "    def add_to_memory(self, new_observation, new_action, new_reward): \n",
    "        self.observations.append(new_observation)\n",
    "        \n",
    "        '''TODO: update the list of actions with new action'''\n",
    "        self.actions.append(new_action)\n",
    "\n",
    "        '''TODO: update the list of rewards with new reward'''\n",
    "        self.rewards.append(new_reward)\n",
    "\n",
    "    def __len__(self):\n",
    "        return len(self.actions)\n",
    "\n",
    "# Instantiate a single Memory buffer\n",
    "memory = Memory()"
   ]
  },
  {
   "cell_type": "markdown",
   "metadata": {
    "id": "D4YhtPaUVj5m"
   },
   "source": [
    "## 3.3 Reward function\n",
    "\n",
    "We're almost ready to begin the learning algorithm for our agent! The next step is to compute the rewards of our agent as it acts in the environment. Since we (and the agent) is uncertain about if and when the game or task will end (i.e., when the pole will fall), it is useful to emphasize getting rewards **now** rather than later in the future -- this is the idea of discounting. This is a similar concept to discounting money in the case of interest. Recall from lecture, we use reward discount to give more preference at getting rewards now rather than later in the future. The idea of discounting rewards is similar to discounting money in the case of interest.\n",
    "\n",
    "To compute the expected cumulative reward, known as the **return**, at a given timestep in a learning episode, we sum the discounted rewards expected at that time step $t$, within a learning episode, and projecting into the future. We define the return (cumulative reward) at a time step $t$, $R_{t}$ as:\n",
    "\n",
    ">$R_{t}=\\sum_{k=0}^\\infty\\gamma^kr_{t+k}$\n",
    "\n",
    "where  $0 < \\gamma < 1$ is the discount factor and $r_{t}$ is the reward at time step $t$, and the index $k$ increments projection into the future within a single learning episode. Intuitively, you can think of this function as depreciating any rewards received at later time steps, which will force the agent prioritize getting rewards now. Since we can't extend episodes to infinity, in practice the computation will be limited to the number of timesteps in an episode -- after that the reward is assumed to be zero.\n",
    "\n",
    "Take note of the form of this sum -- we'll have to be clever about how we implement this function. Specifically, we'll need to initialize an array of zeros, with length of the number of time steps, and fill it with the real discounted reward values as we loop through the rewards from the episode, which will have been saved in the agents memory. What we ultimately care about is which actions are better relative to other actions taken in that episode -- so, we'll normalize our computed rewards, using the mean and standard deviation of the rewards across the learning episode.\n",
    "\n",
    "We will use this definition of the reward function in both parts of the lab so make sure you have it executed!\n"
   ]
  },
  {
   "cell_type": "code",
   "execution_count": 10,
   "metadata": {
    "id": "5_Q2OFYtQ32X"
   },
   "outputs": [],
   "source": [
    "### Reward function ###\n",
    "\n",
    "# Helper function that normalizes an np.array x\n",
    "def normalize(x):\n",
    "    x -= np.mean(x)\n",
    "    x /= np.std(x)\n",
    "    return x.astype(np.float32)\n",
    "\n",
    "# Compute normalized, discounted, cumulative rewards (i.e., return)\n",
    "# Arguments:\n",
    "#   rewards: reward at timesteps in episode\n",
    "#   gamma: discounting factor\n",
    "# Returns:\n",
    "#   normalized discounted reward\n",
    "def discount_rewards(rewards, gamma=0.95): \n",
    "    discounted_rewards = np.zeros_like(rewards)\n",
    "    R = 0\n",
    "    for t in reversed(range(0, len(rewards))):\n",
    "        # update the total discounted reward\n",
    "        R = R * gamma + rewards[t]\n",
    "        discounted_rewards[t] = R\n",
    "      \n",
    "    return normalize(discounted_rewards)"
   ]
  },
  {
   "cell_type": "markdown",
   "metadata": {
    "id": "QzbY-mjGYcmt"
   },
   "source": [
    "## 3.4 Learning algorithm\n",
    "\n",
    "Now we can start to define the learing algorithm which will be used to reinforce good behaviors of the agent and discourage bad behaviours. In this lab, we will focus on *policy gradient* methods which aim to **maximize** the likelihood of actions that result in large rewards. Equivalently, this means that we want to **minimize** the negative likelihood of these same actions. We achieve this by simply **scaling** the probabilities by their associated rewards -- effectively amplifying the likelihood of actions that resujlt in large rewards.\n",
    "\n",
    "Since the log function is monotonically increasing, this means that minimizing **negative likelihood** is equivalent to minimizing **negative log-likelihood**.  Recall that we can easily compute the negative log-likelihood of a discrete action by evaluting its [softmax cross entropy](https://www.tensorflow.org/api_docs/python/tf/nn/sparse_softmax_cross_entropy_with_logits). Like in supervised learning, we can use stochastic gradient descent methods to achieve the desired minimization. \n",
    "\n",
    "Let's begin by defining the loss function."
   ]
  },
  {
   "cell_type": "code",
   "execution_count": 11,
   "metadata": {
    "id": "fsgZ3IDCY_Zn"
   },
   "outputs": [],
   "source": [
    "### Loss function ###\n",
    "\n",
    "# Arguments:\n",
    "#   logits: network's predictions for actions to take\n",
    "#   actions: the actions the agent took in an episode\n",
    "#   rewards: the rewards the agent received in an episode\n",
    "# Returns:\n",
    "#   loss\n",
    "def compute_loss(logits, actions, rewards): \n",
    "    '''TODO: complete the function call to compute the negative log probabilities'''\n",
    "    neg_logprob = tf.nn.sparse_softmax_cross_entropy_with_logits(\n",
    "       logits=logits, labels=actions)\n",
    "  \n",
    "    '''TODO: scale the negative log probability by the rewards'''\n",
    "    loss = tf.reduce_mean(neg_logprob * rewards)\n",
    "    return loss"
   ]
  },
  {
   "cell_type": "markdown",
   "metadata": {
    "id": "Rr5vQ9fqbPpp"
   },
   "source": [
    "Now let's use the loss function to define a training step of our learning algorithm. This is a very generalizable definition which we will use "
   ]
  },
  {
   "cell_type": "code",
   "execution_count": 12,
   "metadata": {
    "id": "_50ada7nbZ7L"
   },
   "outputs": [],
   "source": [
    "### Training step (forward and backpropagation) ###\n",
    "\n",
    "def train_step(model, loss_function, optimizer, observations, actions, discounted_rewards, custom_fwd_fn=None):\n",
    "    with tf.GradientTape() as tape:\n",
    "        # Forward propagate through the agent network\n",
    "        if custom_fwd_fn is not None:\n",
    "            prediction = custom_fwd_fn(observations)\n",
    "        else: \n",
    "            prediction = model(observations)\n",
    "\n",
    "        '''TODO: call the compute_loss function to compute the loss'''\n",
    "        loss = compute_loss(prediction, actions, discounted_rewards)\n",
    "\n",
    "    '''TODO: run backpropagation to minimize the loss using the tape.gradient method. \n",
    "             Unlike supervised learning, RL is *extremely* noisy, so you will benefit \n",
    "             from additionally clipping your gradients to avoid falling into \n",
    "             dangerous local minima. After computing your gradients try also clipping\n",
    "             by a global normalizer. Try different clipping values, usually clipping \n",
    "             between 0.5 and 5 provides reasonable results. '''\n",
    "    grads = tape.gradient(loss, model.trainable_variables)\n",
    "\n",
    "    grads, _ = tf.clip_by_global_norm(grads, 1.0)\n",
    "    optimizer.apply_gradients(zip(grads, model.trainable_variables))"
   ]
  },
  {
   "cell_type": "markdown",
   "metadata": {
    "id": "XsjKXh6BcgjR"
   },
   "source": [
    "## 3.5 Run cartpole!\n",
    "\n",
    "Having had no prior knowledge of the environment, the agent will begin to learn how to balance the pole on the cart based only on the feedback received from the environment! Having defined how our agent can move, how it takes in new observations, and how it updates its state, we'll see how it gradually learns a policy of actions to optimize balancing the pole as long as possible. To do this, we'll track how the rewards evolve as a function of training -- how should the rewards change as training progresses?"
   ]
  },
  {
   "cell_type": "code",
   "execution_count": 13,
   "metadata": {
    "id": "-hZ7E6JOJ9Bn"
   },
   "outputs": [],
   "source": [
    "## Training parameters ##\n",
    "## Re-run this cell to restart training from scratch ##\n",
    "\n",
    "# TODO: Learning rate and optimizer\n",
    "learning_rate = 1e-3\n",
    "\n",
    "optimizer = tf.keras.optimizers.Adam(learning_rate)\n",
    "\n",
    "# instantiate cartpole agent\n",
    "cartpole_model = create_cartpole_model()\n",
    "\n",
    "# to track our progress\n",
    "smoothed_reward = mdl.util.LossHistory(smoothing_factor=0.95)\n",
    "plotter = mdl.util.PeriodicPlotter(sec=2, xlabel='Iterations', ylabel='Rewards')"
   ]
  },
  {
   "cell_type": "code",
   "execution_count": 21,
   "metadata": {
    "id": "XmOzc2rrcn8Q"
   },
   "outputs": [
    {
     "data": {
      "image/png": "[encoded data removed]",
      "text/plain": [
       "<Figure size 432x288 with 1 Axes>"
      ]
     },
     "metadata": {},
     "output_type": "display_data"
    },
    {
     "data": {
      "image/png": "[encoded data removed]",
      "text/plain": [
       "<Figure size 432x288 with 1 Axes>"
      ]
     },
     "metadata": {
      "needs_background": "light"
     },
     "output_type": "display_data"
    }
   ],
   "source": [
    "## Cartpole training! ##\n",
    "## Note: stoping and restarting this cell will pick up training where you\n",
    "#        left off. To restart training you need to rerun the cell above as \n",
    "#        well (to re-initialize the model and optimizer)\n",
    "\n",
    "if hasattr(tqdm, '_instances'): tqdm._instances.clear() # clear if it exists\n",
    "for i_episode in range(5): ### WAS: range(500):\n",
    "\n",
    "    plotter.xlabel=f'Iteration (current: {i_episode})'\n",
    "    plotter.plot(smoothed_reward.get())\n",
    "    # Restart the environment\n",
    "    observation = env.reset()\n",
    "    memory.clear()\n",
    "\n",
    "    while True:\n",
    "        # using our observation, choose an action and take it in the environment\n",
    "        action = choose_action(cartpole_model, observation)\n",
    "        next_observation, reward, done, info = env.step(action)\n",
    "        # add to memory\n",
    "        memory.add_to_memory(observation, action, reward)\n",
    "\n",
    "        # is the episode over? did you crash or do so well that you're done?\n",
    "        if done:\n",
    "            # determine total reward and keep a record of this\n",
    "            total_reward = sum(memory.rewards)\n",
    "            smoothed_reward.append(total_reward)\n",
    "          \n",
    "            # initiate training - remember we don't know anything about how the \n",
    "            #   agent is doing until it has crashed!\n",
    "            g = train_step(cartpole_model, compute_loss, optimizer, \n",
    "                       observations=np.vstack(memory.observations),\n",
    "                       actions=np.array(memory.actions),\n",
    "                       discounted_rewards = discount_rewards(memory.rewards))\n",
    "          \n",
    "            # reset the memory\n",
    "            memory.clear()\n",
    "            break\n",
    "        # update our observatons\n",
    "        observation = next_observation"
   ]
  },
  {
   "cell_type": "markdown",
   "metadata": {
    "id": "mkcUtGF1VE-K"
   },
   "source": [
    "To get a sense of how our agent did, we can save a video of the trained model working on balancing the pole. Realize that this is a brand new environment that the agent has not seen before!\n",
    "\n",
    "Let's display the saved video to watch how our agent did!\n"
   ]
  },
  {
   "cell_type": "code",
   "execution_count": 23,
   "metadata": {
    "id": "PAYBkv6Zbk0J",
    "scrolled": true
   },
   "outputs": [
    {
     "name": "stderr",
     "output_type": "stream",
     "text": [
      "ALSA lib confmisc.c:767:(parse_card) cannot find card '0'\n",
      "ALSA lib conf.c:4732:(_snd_config_evaluate) function snd_func_card_driver returned error: No such file or directory\n",
      "ALSA lib confmisc.c:392:(snd_func_concat) error evaluating strings\n",
      "ALSA lib conf.c:4732:(_snd_config_evaluate) function snd_func_concat returned error: No such file or directory\n",
      "ALSA lib confmisc.c:1246:(snd_func_refer) error evaluating name\n",
      "ALSA lib conf.c:4732:(_snd_config_evaluate) function snd_func_refer returned error: No such file or directory\n",
      "ALSA lib conf.c:5220:(snd_config_expand) Evaluate error: No such file or directory\n",
      "ALSA lib pcm.c:2642:(snd_pcm_open_noupdate) Unknown PCM default\n"
     ]
    },
    {
     "name": "stdout",
     "output_type": "stream",
     "text": [
      "Successfully saved 500 frames into CartPole-v1.mp4!\n"
     ]
    },
    {
     "data": {
      "text/html": [
       "\n",
       "        <video controls >\n",
       "            <source src=\"data:video/mp4;base64,AAAAIGZ0eXBpc29tAAACAGlzb21pc28yYXZjMW1wNDEAAAAIZnJlZQAAVnttZGF0AAACrgYF//+q3EXpvebZSLeWLNgg2SPu73gyNjQgLSBjb3JlIDE1NSByMjkxNyAwYTg0ZDk4IC0gSC4yNjQvTVBFRy00IEFWQyBjb2RlYyAtIENvcHlsZWZ0IDIwMDMtMjAxOCAtIGh0dHA6Ly93d3cudmlkZW9sYW4ub3JnL3gyNjQuaHRtbCAtIG9wdGlvbnM6IGNhYmFjPTEgcmVmPTMgZGVibG9jaz0xOjA6MCBhbmFseXNlPTB4MToweDExMSBtZT1oZXggc3VibWU9NyBwc3k9MSBwc3lfcmQ9MS4wMDowLjAwIG1peGVkX3JlZj0xIG1lX3JhbmdlPTE2IGNocm9tYV9tZT0xIHRyZWxsaXM9MSA4eDhkY3Q9MCBjcW09MCBkZWFkem9uZT0yMSwxMSBmYXN0X3Bza2lwPTEgY2hyb21hX3FwX29mZnNldD00IHRocmVhZHM9MTIgbG9va2FoZWFkX3RocmVhZHM9MiBzbGljZWRfdGhyZWFkcz0wIG5yPTAgZGVjaW1hdGU9MSBpbnRlcmxhY2VkPTAgYmx1cmF5X2NvbXBhdD0wIGNvbnN0cmFpbmVkX2ludHJhPTAgYmZyYW1lcz0zIGJfcHlyYW1pZD0yIGJfYWRhcHQ9MSBiX2JpYXM9MCBkaXJlY3Q9MSB3ZWlnaHRiPTEgb3Blbl9nb3A9MCB3ZWlnaHRwPTIga2V5aW50PTI1MCBrZXlpbnRfbWluPTI1IHNjZW5lY3V0PTQwIGludHJhX3JlZnJlc2g9MCByY19sb29rYWhlYWQ9NDAgcmM9Y3JmIG1idHJlZT0xIGNyZj0yMy4wIHFjb21wPTAuNjAgcXBtaW49MCBxcG1heD02OSBxcHN0ZXA9NCBpcF9yYXRpbz0xLjQwIGFxPTE6MS4wMACAAAACfmWIhAAv//72KfgU1zAx/UC/+hD/k7+t/q31nYeDEx06lJcBgAGINgAAAwAAAwAAWS+7d98zS6te2kqgIqOOBUAAAAMAAAMADTYgABWCwkqAnARADDQYPIBgANSNf+B3aADXAugQKlIRu88Vi4ALnjy7aZZTvwy5T6I9dErj78EGcLysRdBWHSLDbUBchFT3diLk6VDtOmSW5ju0eBwnG7cC0Ayl11ErYbSKztHBNfSowbBMUMwwriQflIh7WB2tYN5GukIKOBCvRb1P6074RHWOkAoyzlL9PzO2TW9YHtRA4lAACAEGkhB0Jhk0qySmb3Gs8FgALJwj/DqnQcUbQkJAKdDA8zutLrRBds17chNbgokdfRYABfHx3xYt75EE+siD2hmpaqZHz4F5g59vyjhFgBDGfaz+L0OcvtJ5R2/XK/oJa7m1kRCBgz23IsPqbS0nVWmk8WXLNl54MAckdAFIdvKatkexKOGQqhbPOt4FhY3zXn7o6htVbKACV5v8ho8jJyk690AMLDSoSqzg/LlNqWNGyJpyiJ01j+Xhzt7WH9v6YZiHwjNs81OpW2r6yVj2XAkhiRFzzgOG+sO7yGGAu8kLQ31XjnmZfjtE1GNJrTB75bTsi7GuCG1Z0LN+pqF9kR6ean2Piy6rNpII9sWbaW9YtyjT55XE3oonLLss4jfGGn5Vraje62iwFvTWhJ4uFymUF0Chsp3xbaRcB4DFGtXTnohEIRlMQZJRdlbo6O515GAAm+ATL6ARTA4rIxUhKAJyhKUcgirdeBTsBfPVddGx7l7hvOml+roIe5nutkuFM/hFhOc7QkwIXHQ5R7HuAHOAAAADAAADAAPnAAAAb0GaJGxC//6MsAAAGqZk1V+zAgABbJ44RDH1DUfyhGYbPonyDIHqyiGG9xVBisUNoFxsJkH9n+nsDy9OuHQJ6OuuMR7HHaQC+iYYzIQgbB8gqclUuqN+xeg8Gwe2Lv39nxZ1BNPkYXYX+xQV2L7s5QAAAB5BnkJ4hf8AAAMD9/aDFtKoLjo5j06fkrfGQ4ly7cEAAAAjAZ5hdEK/AAAFi0RoAW7QXnPXFHbI0trcBHzkglIxnpdmkQEAAAAQAZ5jakK/AAADAMk7QAAccQAAALZBmmhJqEFomUwIX//+jLAAABqJM8MC+wZrilZ986S7rSZsl/miq8EL2luDbgBwKs6cZO+fzYBINxlzCqtQXz5XLVJwhds4Rxd6mnDTskXyBAh8ulLSCycPWkLOqth5+jCYKPbtPsP4B9c79pNB9AAhq1L/3Jo9t2ogLvQEY7ZIIvfZKobB8Zshco7r04L/80hPU+LZ5Cbz9V1PhoswU+9Y+R+ajbsYBxE/tqyCX4hlBeEhP8U8YQAAACdBnoZFESwv/wAAAwGID0KxNXY+VUCIJ8hQ4lzvcUH2cnIsnZDKD5cAAAAdAZ6ldEK/AAADAgvmVDRX91Z323gEg2Lat2/jwYEAAAAkAZ6nakK/AAAOf3R7MjvEOVeqdv3Xe8qWnWrnysQGnfe+KFO3AAAAdkGarEmoQWyZTAhf//6MsAAARgL61CmcNfWQacDmq8A1wpHn/uO8YBflCyPII2uV7ff89rwdswX6LwAogyh0gvvyfIQJ0vFfZGLZmq0iGLsRCA7uSlKuDCSiBfLw2Ls+Pi1U/qzwf8u7l9Icwbo/Al/5uHzaKcAAAAAyQZ7KRRUsL/8AAArLG2rV3dR3w44ACJxQC38diZBrz311Q1B5cwqOhro0m4jnn7lVsW0AAAAuAZ7pdEK/AAAOfwi6bkn0a9vyP2H4hICxFCRQLwHoG5URYtgAOtFOf4/yeiPJgwAAABwBnutqQr8AAAMCC7Nx30suiZ3ig228Mt7tfy24AAAAOkGa8EmoQWyZTAhf//6MsAAARgFNXRVFuPQgWBQygUT+zh6VPj54HKWwh62K5PGF1fPgp5FEn9ISEcEAAAAhQZ8ORRUsL/8AAArM+vSDb7BTDSHRJxeZbGaizwewd4VhAAAADwGfLXRCvwAAAwAAAwCtgQAAAB0Bny9qQr8AAA6DM+M1mT857CVR9iZJARgEYnzwygAAAF5BmzRJqEFsmUwIX//+jLAAAEZ+J4D+/a3ItBH0Y410sXT8vnvEgLC+yApW0HYOJkxWYMRa+5/qYk5jTzFfe8VAG99slxNnlZPnW8kn6yKnzXw4Bw05v8zyE322pwJUAAAAJkGfUkUVLC//AAADA/icetEF9k+c24l1wkL7soNiPyRM6T3e843pAAAAEQGfcXRCvwAADoRfIC6EUdqQAAAAHQGfc2pCvwAADoWAjhneWnT981uqs3g332fTorZgAAAAQ0GbeEmoQWyZTAhf//6MsAAARAL70Brp4Ne650pgrKMfxPHqUDCEo+h12pTftfMIhoKfMcD4Ro4jgQjcXRzV9/XpKX0AAAAhQZ+WRRUsL/8AAAqDJ3juEDAyWg+7x2yhh6l6N6RzuiowAAAAFQGftXRCvwAADixes6fxAs9Mj7SjpwAAABoBn7dqQr8AAAVmxuQD3kXYr4oOu36E/+BHJQAAAD9Bm7xJqEFsmUwIX//+jLAAAEQC+9Aa5McKHx4nYescDhvhtFLVzmE8BNdqqv2smXGQZ8ZOWlfYWZ0M2GmBoWAAAAAeQZ/aRRUsL/8AAAqE/65UF+Al4yOIDWROnskSBllRAAAADwGf+XRCvwAAAwAAAwCtgAAAAC4Bn/tqQr8AAA4oPNMQtm66usqSyABLucHRwppPP5Z7A4YVIDkx9rf4L9fiK7KhAAAAREGb4EmoQWyZTAhv//6nhAAAEVIvMSQ9fmY/iwkwzjdairqicseUbxMcZoWdSRBroMfWtif685+frRPn4BN9vOM5gFtRAAAAHkGeHkUVLC//AAAKhP+uVBfgJeMjiA1kTp7JEgZZUAAAAA8Bnj10Qr8AAAMAAAMArYAAAAAcAZ4/akK/AAAOKzqMM96LsV1vt/r+S3EwWBhPgQAAAF5BmiRJqEFsmUwIX//+jLAAAAnFD9Kb1AAsO5GA/u0sPgkm0s2aQK22TGquHQ41U1cgsviKvmIhJF8n3NQaAFFnc6uD/+211hnMp2RrGL5CynaMNhbb1tKJGBfuisobAAAARkGeQkUVLC//AAADAI7P9QuBvAABLzUC3/uM8CTyr9LvcZvAr1jDcSMQDxykek/Vag53Tts92gUhRHabXrVdvuoEIDDbX5UAAAAZAZ5hdEK/AAADAfyL1oO8DSrzh5gX6PipIAAAABoBnmNqQr8AAAMAS4NVKQ0Vl01DUuW7wAJvQQAAAEZBmmhJqEFsmUwIX//+jLAAAEQC+9Aa5McKHxkZ8/hvgAIjPtc73n9/bL28f/u7SkZfDr6g9tnbcvoxUDtPJ7GddJnbrTlRAAAAHkGehkUVLC//AAAKgyc3B9leLV5QnZgdzsk8zo/CfQAAACYBnqV0Qr8AAA4nEll7LHGCkeYbNdkwR9inlN1WeWDI9OJJI3BT4QAAABABnqdqQr8AAAMAS3ZwACXgAAAARUGarEmoQWyZTAhv//6nhAAAEVIvMSQynFiAFscstSgp/6NX7kR1DyEIGdSuWCzSxLduLj7xTyCEfa0fJ/4KdJPopsrigAAAAEtBnspFFSwv/wAACoT/U6V6oxdTAAEQb3tJrsSb28/mmBYdAWVUrPL0atb5qHNpaQDNea09GOVPUphdOMDW8+yeTUlyuZtxeb8zb0EAAAAiAZ7pdEK/AAADAfyL1oOjKeNHa7MsWtUhKki5JLt9LTm3oAAAABgBnutqQr8AAA4oPM/ynM2P9evSwlSU4m4AAABbQZrwSahBbJlMCF///oywAAAZSmE8Beb14Jl/MOQALscY1/tjcoxCgk+TL+5FynFw0I5sOEVnqxTAxvTF10pJAb4YQzf05DEO9AeZh7E1fvcLNb+TnkKW30TIpQAAACFBnw5FFSwv/wAAAwPISxWXAG4HmJ1lAGr7xsxGt+PQh00AAAAeAZ8tdEK/AAAFQLYTpqOjS+RmeOuO9kLbxx8ocBJtAAAAEQGfL2pCvwAABULHDtsaXA+YAAAAL0GbNEmoQWyZTAhf//6MsAAARAL5xdwXnuEzdg/wL+sUqqto4ZP+h6a+nIgfSChTAAAAH0GfUkUVLC//AAAKgxtqLaux+4S9R/QBriKFIoUQybEAAAA5AZ9xdEK/AAAOJwi6bkgxJeBIeo08U5hgCtwACdtdhv3YLy7/fefDKcDscxz53O9S52O+h6DZ1KrAAAAAEAGfc2pCvwAAAwBLdnAAJeAAAADOQZt4SahBbJlMCF///oywAAAZ572IAW8LeTnX+mPgfzGWs/ouwJRJiOBkabJQDPHGBKQqsQZpPWl8X3tT4+QERAn4LZZEfNr9pX4pvswzVvrHRVcFbbuKKM6mGochDwnx8hnru10Zj8tdaW4wO10iZVslCozjXA+xgWOk+ayoklEYHJmNN8hzHWeHzsiHrGYkWe2asX37dcq6ftDn9xwhgmlCVjrrhlwlhchNyrsuZIxDGTEXHiKGqJKapfI9jOk7XfJosz/EzCBjwjfHDoEAAABLQZ+WRRUsL/8AAAMD4pxmf4SY7QiMnZ0b940BCaJDAkmCQA2/JBpDn5N+fy/gnTjFBoxscjHJ6+h00sBHr/NKdtSLaL1yzzsWgPiwAAAAHQGftXRCvwAAAwH8in9DD9rIkbvKvtRoVM/MwSbBAAAAHAGft2pCvwAABWbD8ZrMn5z3Zs6rClHWAdy9ikkAAAA0QZu8SahBbJlMCF///oywAABEJeICr+Rl0pwhuswZ3obB6WyVWZxNJDfZAf7ty6yS/VU9oAAAABtBn9pFFSwv/wAACoMbai2rsfuBakiLCqRNMaEAAAAfAZ/5dEK/AAAOLFP6GHRGHDOoxZ7sTe4yPmCqSteHgAAAAA8Bn/tqQr8AAAMAAAMArYEAAABAQZvgSahBbJlMCFf//jhAAAAl3v58sJvuZJ+r7fgYtMt7FwATUMFoFox3xLRxF4410jBq8oLSQyF6JrGSh5nxgQAAACNBnh5FFSwv/wAAAwF+D0KxNXUIlRuuf5mwmWSAsUlUnZ94IAAAABwBnj10Qr8AAAMB/Ip/Bj7+EaMuP55XM47FgP29AAAAEQGeP2pCvwAAAwAbB2eQHwnZAAAAOkGaIUmoQWyZTAhv//6nhAAAEVl5hiUQExP5tLcyeqive8gFkRAFanZGEd4dklZfeMX/o+B4dGIW9bMAAABMQZpFSeEKUmUwIb/+p4QAAAMCfHnazzxHSKqbqgA/obikfjyIlwIk3/aKM7IKq/ygDMuh141SKBEQKlxnaoBYzoAA7/G7r8Up1O8swQAAACJBnmNFNEwv/wAAAwF+EPXQxb9u3IaSb4/SdPyXmLQSfZ4sAAAAGwGegnRCvwAAAwH74ks0hMigdF4UZp8qPyM7gwAAABABnoRqQr8AAAMAR3ZwACghAAAAI0GaiUmoQWiZTAhf//6MsAAAAwFb/JkZoosQCPZJ2//c4MqBAAAASUGep0URLC//AAADA+BncSQGIAW8LcjhH+5mGWov9cimHPkh0Oj35qdWOQY8ftos4FNoPgpYVOnobNpwJQ4rpxTJMFhnk6JLNvUAAAAdAZ7GdEK/AAADAfaHE9O3TagasV1DtJMCXBazRCwAAAAdAZ7IakK/AAADAfwFboOBdmNtkD+9a1hoj4jyR4IAAABEQZrNSahBbJlMCG///qeEAAADAn/up+k6d5uiEYsFenhczVGAmXm61ndLEAZQ5uNHVEsDHz+hmc61W1ULh/lX/0FY1WkAAAAdQZ7rRRUsL/8AAAMBfhD10OfM4YLjWI2evJBp4IAAAAAbAZ8KdEK/AAADAfviSzSEyKB0XhRmnyo/IzuCAAAADwGfDGpCvwAAAwAAAwCtgQAAABdBmxFJqEFsmUwIX//+jLAAAAMAAAMDQwAAAD5Bny9FFSwv/wAAAwF0PITDj9JtAAXPuDC/UVj/EvOksvyTLtlOoxj2OrzVYluQSqbwJwqk5dH93IgAA8J4sQAAAB0Bn050Qr8AAAMB8OJLO8ONRbCR+ODVOhhZ7iUmwAAAABsBn1BqQr8AAAMB8QeagxicVMFhR3qJDqI2OmAAAABBQZtVSahBbJlMCF///oywAABEAvnF3Bek5kxDC+bjXEAAg/Wdz/1NX0GSnoafQXxiUJvnAZw5vm9gVlWI0cLYdcEAAAAcQZ9zRRUsL/8AAAqDG2otq7H7bY9UCrs9DVQXEAAAABgBn5J0Qr8AAA4nCLpuScqkB5e1UGqshYAAAAAPAZ+UakK/AAADAAADAK2BAAAAWUGbmUmoQWyZTAhv//6nhAAAAwJ/7qcbkoXSA6wQVX5MAJ0vPmH9pKlyDBWzZ0kXze1qzhHGA295/xihcHwMt5q+vAyLVqkpmPeKHASC1EEHg+Ilaz6K4K4oAAAAIkGft0UVLC//AAADAX4Pq+MMj3ro9P3vEMXRyuKu087qG8EAAAAbAZ/WdEK/AAADAfviSzSEyKB0XhRmnyo/IzuDAAAAPQGf2GpCvwAAAwHxB5qDGJxUwWFNX2mIkMSnwAIBnvisFaot45ao/w6AxAM+9nm3tb4ivUr7GQa/m8048WAAAAAXQZvdSahBbJlMCF///oywAAADAAADA0MAAAAgQZ/7RRUsL/8AAAMBdMlQ8vTL7FwUCj+y+BFE2RoCIdMAAAAcAZ4adEK/AAADAfDiSzvDhZIfgwQoH5dUUYgIWQAAABsBnhxqQr8AAAMB8QeagxicVMFhR3qJDqI2OmEAAABMQZoBSahBbJlMCF///oywAABEAvnF3Bek7D4QehaOACncVBt5MM15/2aIO/dHTcDJO9AlL/nNQpkULS+FcAFnMKbnlwgIyB0Yn6HoEAAAACNBnj9FFSwv/wAACoMbai2r2Ef4D7v3BrQmIaQhQgTxyVlpNgAAACUBnl50Qr8AAA4sU/oYdF2MjS3RDy0EBd5gympCA+yTbe1HfHixAAAAEwGeQGpCvwAAAwHxZ1GGqSNgN6AAAAA2QZpFSahBbJlMCG///qeEAAADAn/up+k6d5uh1Hyncp5o56//jwTzFYle2WDHU5FBbu0jCRpVAAAAIUGeY0UVLC//AAADAXTJWoTz+VFDTEgs2F/0ypK2IuR4IAAAABIBnoJ0Qr8AAAMB8OJLNI3sBvUAAAAbAZ6EakK/AAADAfwGAJbpJe8K29bCyBmFldcFAAAAF0GaiUmoQWyZTAhf//6MsAAAAwAAAwNDAAAAFEGep0UVLC//AAADAXTJUPKlALiBAAAAEQGexnRCvwAAAwHw4ks20AuIAAAAEQGeyGpCvwAAAwHxZ1GH0AuIAAAAM0GazUmoQWyZTAhf//6MsAAARAL5xdwXm4h1CED5QsuvNI3Ge5UoAJr2Wzd2iT/P5qkXcQAAADtBnutFFSwv/wAACoT69KOWYoqE5RRN/VUAJY2ARVz6aWQzzR60I5pqhjxD/FEE2NrSrEf9hN2EaBl7wQAAAB8Bnwp0Qr8AAAMAvwB8g8OBPRg5e8imyIpk6aJCZt6AAAAAJwGfDGpCvwAADigrdBwLsw3dtUSKQ/AAJ212y317za8RwpSlKzvb0QAAADRBmxFJqEFsmUwIb//+p4QAAAMCf+6n6Tp3m6IRiwV6eFzNUYCv4fD6dlL+BxpXJYq7o0qBAAAAHUGfL0UVLC//AAADAX4Q9dDnzOGC41iNnryQaeCBAAAAMAGfTnRCvwAADiuUcoDuSlLHH8DCzn6kiAE0pTQb7ElE33kLCcFyEIhu5/7ozgt70AAAACQBn1BqQr8AAA4nbFqwLCFEOvbwRJlKAD9skG//s0StNWS46YAAAAA3QZtVSahBbJlMCF///oywAAADA6N45qMXRrTEQAhTciRv2akYOKli4imlmI0pqAWSBUQvTTgnlwAAAB5Bn3NFFSwv/wAAAwCO59C/hFnAdT7Cww8+oq3vxYAAAAAPAZ+SdEK/AAADAAADAK2AAAAAGwGflGpCvwAAAwH7t+GO3q2cKJ2H0OT+0EbegQAAAE5Bm5lJqEFsmUwIX//+jLAAAAMDjaBq94vLp1ZUAGvigFv+jT9cHCXAlBHhCeASH6l5fPovRkd92pd3mmkEKed3KKeKkcv4+ejFyroMhYgAAAAfQZ+3RRUsL/8AAAMAjvnwDI7K0aVoRyksE5fZS8g3iwAAABsBn9Z0Qr8AAAMAxABlij/RN/WQOXMfKoz28EEAAAAdAZ/YakK/AAADAfDOBqx9nubeGGjGpQ/7hSzbvBAAAAAlQZvdSahBbJlMCHf//qmWAAAIwV+/jwSXZ3WbjpqRry0uW8HMWQAAADJBn/tFFSwv/wAACoMbai2sxLfpLvUgQAC05UNNv/4WmJqZn5S+u0tJn5qlDeItmSqIWAAAABwBnhp0Qr8AAA4nCLpuScqkB5eJCc3bmbTHgFk3AAAAGgGeHGpCvwAAAwH8B5pnW8nRbczPTYETeh8XAAAAGEGaAUmoQWyZTAhv//6nhAAAAwAAAwDUgAAAABFBnj9FFSwv/wAAAwAAAwB8wAAAAA8Bnl50Qr8AAAMAAAMArYEAAAAPAZ5AakK/AAADAAADAK2AAAAAGEGaRUmoQWyZTAhv//6nhAAAAwAAAwDUgQAAABFBnmNFFSwv/wAAAwAAAwB8wAAAAA8BnoJ0Qr8AAAMAAAMArYEAAAAPAZ6EakK/AAADAAADAK2BAAAASEGaiUmoQWyZTAhf//6MsAAAAwOPTNa8L+AAEQe0cegzYUARNzfdi3btckgB0qLJTIVG2HbgDYqHQaDGMr1XHfxu72oPKUhFKQAAAB5BnqdFFSwv/wAAAwCK59qFGiKmPipqng8OCD0tfi0AAAAPAZ7GdEK/AAADAAADAK2AAAAAHQGeyGpCvwAAAwHwOQpHEww+Nw8Itj+wSSxkAk2AAAAAJEGazUmoQWyZTAhv//6nhAAAEVIu4H+cGQemuUe8ng4wdt8QsQAAABlBnutFFSwv/wAACoMbai2rsftvT8kgvad0AAAAGAGfCnRCvwAADicIum5JyqQHl48aAHwz4AAAAA8BnwxqQr8AAAMAAAMArYEAAAAXQZsRSahBbJlMCF///oywAAADAAADA0MAAAARQZ8vRRUsL/8AAAMAAAMAfMEAAAAPAZ9OdEK/AAADAAADAK2AAAAADwGfUGpCvwAAAwAAAwCtgAAAAD9Bm1VJqEFsmUwIX//+jLAAAEQC+LWcf5X3WRGMb0pAAJxL+6P+KZAZTe1ea4RlqkRFmroiJWLaSt4aMhgYesEAAAAaQZ9zRRUsL/8AAAqDG2otq7H7b4iYE1YL2QsAAAAXAZ+SdEK/AAAOLFP6GHRGMNAP/1yC6ggAAAAZAZ+UakK/AAAOLX4wGFDWT8+gC9WwOVLyFwAAADVBm5lJqEFsmUwIb//+p4QAAAMCf+6n6Tp3m6IRiwV6eFzNUYCZebZ06hZ26l0YNLAb0Cj4oAAAAB1Bn7dFFSwv/wAAAwF+EPXQ58zhguNYjZ68kGnggQAAADQBn9Z0Qr8AAA4rlENk93RuuvdPrZUlrX7KgBLSM0dYfdmJR0PQIzIF57V8RcAPcu06VvehAAAAOgGf2GpCvwAAAwH7t91MbKnn66g8B1iUrE0HdMgBNeHxzY38SnZLf1Lpbd4iXFqhr450gbgBanryk4AAAAAYQZvdSahBbJlMCG///qeEAAADAAADANSBAAAAEUGf+0UVLC//AAADAAADAHzAAAAADwGeGnRCvwAAAwAAAwCtgQAAAA8BnhxqQr8AAAMAAAMArYEAAABUQZoBSahBbJlMCF///oywAAAJhQ/SmuHrPiABEWz/ekNZN9Lxdx2ncPM8kuhRfASSLcXTVacW+MHT20uPY7b631ZBS4Ik4pUjRTK5+1HpUSfX3oUwAAAAH0GeP0UVLC//AAADAXSf9c2k7M0iToKiB2jEKaZ8IWAAAAAPAZ5edEK/AAADAAADAK2BAAAAGgGeQGpCvwAAAwC/EtFBkGcgB8rin+WWuR4sAAAAJEGaRUmoQWyZTAhv//6nhAAAEVIuvGAdB2d+n3ifQ/g9BCcxCwAAABpBnmNFFSwv/wAACoT69KOWYiXOI1TExyiMqAAAAA8BnoJ0Qr8AAAMAAAMArYEAAAAWAZ6EakK/AAAOKCt0HAuzDePixnqGpQAAABdBmolJqEFsmUwIX//+jLAAAAMAAAMDQwAAADtBnqdFFSwv/wAAAwF90t9hoQHMCoAcFOpca/Cwv20aC0dNFxlcVBDjObcEXQtG+0/LaYofi8ydcuNvQQAAABsBnsZ0Qr8AAAMAxABlij/RN/WQOXMfKoz28EAAAAAaAZ7IakK/AAADAfwHmmdbydFtzM9NgRN6HxYAAABRQZrNSahBbJlMCG///qeEAAARUi68YB01YA+eCx/Xw/ehsk/soP+zYJjptku0pbDHsHH8m1CofLxZkf8RVjmysNjS4C+APGeILenHUI7F3GjBAAAATEGe60UVLC//AAAKhPr0o5ZhqDkWAj4SgBwWtl2fyz9svfEFFXpo+6wa+Ue6bPlr6a8iLobLCedFU5uVY7NGyXvdwYf7anGYoalU7egAAAAaAZ8KdEK/AAADAEldP9NyTlXMT4qtfTr9eLAAAAAdAZ8MakK/AAAOKCt0HAuzDePikvAn/9txfM9n+TcAAAAXQZsRSahBbJlMCF///oywAAADAAADA0MAAAAlQZ8vRRUsL/8AAAMD4wu0uhD+uOoc/D+crjuJeHY1Tea6SCe7ewAAABsBn050Qr8AAAVlOIzSNNh0uElAirSdPofR4sAAAAAaAZ9QakK/AAAFZbWqR3MicRYE2Y/fSE208EAAAAA0QZtVSahBbJlMCG///qeEAAAGn9g/vsaW4k9MwjCpOl732odeAMbmXlVG9EDfnlpww3VAgQAAAB1Bn3NFFSwv/wAAAwPh+nBMVm3DGlRQneWGH5xcEAAAABsBn5J0Qr8AAAVlOIzSNNh0uElAirSdPofR4sAAAAAPAZ+UakK/AAADAAADAK2BAAAAU0GbmUmoQWyZTAhf//6MsAAACYUP03ynOzwjigALW3Zwaf7rfz+cDmMbfy7ThC0tmmxiWLtdsgTNftuLHGoF5fsQP4XtuhbrZmcH58FNt0n2M4UwAAAAHUGft0UVLC//AAADAXSf9cqC/ATTDWuqXbjCMK3pAAAADwGf1nRCvwAAAwAAAwCtgQAAABsBn9hqQr8AAAMB8WdRhnvRdnerTUayAow6dMAAAAAlQZvdSahBbJlMCG///qeEAAAQ0i8xJD2OYYzkcu0x9FVbwXOY8QAAABlBn/tFFSwv/wAACjz/rlQX4CXjI4ing6V3AAAAEAGeGnRCvwAAAwAD98S0GpEAAAAVAZ4cakK/AAAN0SpTPCdo/Oia/IWBAAAAGEGaAUmoQWyZTAhv//6nhAAAAwAAAwDUgAAAABFBnj9FFSwv/wAAAwAAAwB8wAAAAA8Bnl50Qr8AAAMAAAMArYEAAAAPAZ5AakK/AAADAAADAK2AAAAAVEGaRUmoQWyZTAhf//6MsAAAAwOPnFOO/eHgAAhJ9dAZ5FzZo7PzctiHJxwmiZ0tr3Xalnz4lvTlWTrUGQ7T+QINvXyCu/MwjSZD+h5354r9cjShSQAAAB1BnmNFFSwv/wAAAwCK59DCIL8N5+wypD1cpc5txwAAAA8BnoJ0Qr8AAAMAAAMArYEAAAAbAZ6EakK/AAADAL8SpSjLHOo7XmOkMxOT0q/bAAAAJEGaiUmoQWyZTAhv//6nhAAAENIvMSQ9fmZYsrV5H7OiajlWwQAAADVBnqdFFSwv/wAACjsnNvVR8gsfctXwH0AJYzg4tiOW38iRBQUsQBEDjOe2sa5kO2RivIv7QQAAABwBnsZ0Qr8AAA3QBlmkac7zMGoLvzIcBfv6oHccAAAAGwGeyGpCvwAAAwHxB5pnhMieD+yMKW5U2YZ8cAAAABdBms1JqEFsmUwIX//+jLAAAAMAAAMDQwAAABJBnutFFSwv/wAAAwAzelzwDFgAAAAPAZ8KdEK/AAADAAADAK2AAAAADwGfDGpCvwAAAwAAAwCtgQAAAEdBmxFJqEFsmUwIb//+p4QAABDSLzEkPadW47Op69OAQcwIAPJPjDodRxI9thzwvAT+sBKDsAeaHV6sEDBBe4rZ6mJ7kdNI2QAAADxBny9FFSwv/wAACjz/rk395LNclKSmPTCAFt6QEcGkC5/KSoVJfP6TW/woFtZKxKhHcATHnuxmN1zs44EAAAAeAZ9OdEK/AAADAL8AfLNh6jcOFSBLkrZrgKMjU/aAAAAAHgGfUGpCvwAADdEqUzwnusrAmxcraCrA8Cw8El9xwAAAACZBm1VJqEFsmUwIX//+jLAAAAMBVPb/7W5pog0nnxuTDYBnTbBswQAAACZBn3NFFSwv/wAAAwFwpC60bBwobhzJnrzIAstC2GrDCmn8SHTKQAAAABsBn5J0Qr8AAAMB8OJLNI053yBkGC2fbHr4jjgAAAAZAZ+UakK/AAADAL8SpTPCe+0ifpRh4MxDKQAAAC9Bm5lJqEFsmUwIX//+jLAAAAMBW/yXZrfeau+6jLMlpa/dWlLA7h2mS2N0voZnKQAAAB1Bn7dFFSwv/wAAAwF0yVDyhnWpxU3XS6jG6c4/tQAAABsBn9Z0Qr8AAAMB8OJLNI053yBkGC2fbHr4jjkAAAARAZ/YakK/AAADAfFnUYfQC4gAAAA7QZvdSahBbJlMCG///qeEAAAQ0i8xJD3wwftl5q9TzERRS8G0Zgx456KpU/YOqtU9jauNuiwThPAVcbEAAAAiQZ/7RRUsL/8AAAo7JzcQqpQF4jBRYWZBeACa0kUjckLPgAAAABUBnhp0Qr8AAA3QBlmkac7zOKE4y4EAAAAaAZ4cakK/AAADAfEHmmeE7SsH2dfrAOZLP2kAAAAYQZoBSahBbJlMCG///qeEAAADAAADANSAAAAAEUGeP0UVLC//AAADAAADAHzAAAAADwGeXnRCvwAAAwAAAwCtgQAAAA8BnkBqQr8AAAMAAAMArYAAAABKQZpFSahBbJlMCF///oywAAADA4+cU47994IABEHtHH26wWgO3BQrwpVOHi6E+Ki4ETdKUbou0842Lxlfeh0lurH+kXr+fR3VELsAAAAdQZ5jRRUsL/8AAAMAiufQwiC/DVeqcPpepmWi1kwAAAAPAZ6CdEK/AAADAAADAK2BAAAAMgGehGpCvwAAAwC/EqUxC1npolrhZ5yEaYvjwpsKedQOhH4agWMrP+9EV4SkMyHYEPxxAAAAWEGaiUmoQWyZTAhf//6MsAAAQgL70BrmsbNLITRvAywaC4AG9Q3g1MSYRN7ymaQXgJr/L3grN4//2Ze2xSlkWt6Vu+zL1piEMG2MG+FwrQHqmtNjAxrFRYEAAAAcQZ6nRRUsL/8AAAo7JzcH2UCGdzwcpFuN/55KMQAAADIBnsZ0Qr8AAA3QBlmkac7zNV38ptws85CNMXx4U2EouA0yPa9NGMrP+iPlysR+aP2tkwAAAA8BnshqQr8AAAMAAAMArYAAAAAyQZrNSahBbJlMCG///qeEAAADAmq0Dmg3QjJE+90tCDez4mAMPwRf+zUqijz+99DDz4EAAAA3QZ7rRRUsL/8AAAMBdJ/1yoL8BNIr+MXmr2aquAAHarVRBf0AdNcMT1cOqBPNHRh9cTWQrKePbAAAABYBnwp0Qr8AAAMAA+McqtMt2It+7iccAAAAFQGfDGpCvwAAAwHxB5pnhO0fnRv2cQAAAGRBmxFJqEFsmUwIX//+jLAAAEB7GICAPO8KVbjrV1juaqNgzh+6DT/xcTdmBJt3Y/CIWExs2SSvTzn9djesibmiHela1j16JrMGwmqS/vDIoCQqogDaDv0+hLGmz+hci0VXxUrxAAAAL0GfL0UVLC//AAADA7X6efSMsB+UEgDJ8xec0ytcfq+fyzqADBG1VhIbB/6yWkVBAAAAHQGfTnRCvwAABR04o7FMIV3goKfFBtezqriNTXHAAAAAEAGfUGpCvwAAAwBFdnAAKSAAAABgQZtVSahBbJlMCF///oywAABCAvnF3BekoJ2xBtNCzGtgA7ZxAC29vnl7/70YAD5jwFVvw4aofiF7YSI3PjUr0MykCf88SB6+PYeOEw98imk+WAhWSVE4d+n/QH6ODTuBAAAAI0Gfc0UVLC//AAAKOxtqMkF1w7asdJMQMFS1OAYAQTnxcXJAAAAAGAGfknRCvwAADc/8um5JyqQHl48aAHw1IAAAABwBn5RqQr8AAAMAvxKdATBKK1PQTKJtsx6HJPJBAAAAMUGbmUmoQWyZTAhf//6MsAAAAwFb/Izp+O+8/OBCcnKT6ikvsS94Ip/BlF6gpMFLVYUAAAAfQZ+3RRUsL/8AAAMDtxK1E3+xfiyA+U7+n398hTPfJwAAABsBn9Z0Qr8AAAMB8OJLNITIoHReFGafKj8jO5MAAAARAZ/YakK/AAADAfFnUYfQC4gAAAJ9ZYiCAA7//vb8/AptFl7/LZ/+iL/lb+9P2a61uFE7M7QacwPQAAAZjyAAAAMAAAlz+p9+ebgfhCIpSmeLJI7IAAADAAADAAApWgAAQZcHCmGj4LeQfpCY0NmiVWf/4RkZABrhkjrqH/pWCDJJDtVSJh2PlV2SJLn0kC/5ysT9Pn/PGpWCNkmWBjj9QMvd/PnhAKAwueD33oSqjxpo5M1Nw5cDl7VAv/2gV7D4sDXfaEDdHoASvKyMMZ2nGDz/S5deVF3UBxgN6bVYX1m72etgADKtCEzcwobvq2CY1Mw4FGZ2dgdpF47C1OSUHJfuO7CxAvtJoXELqNmbco/4kmw4HbD+Cl13Uc9Ri3G1yvtZlgok6vqhjB1PNMgyNKBnN2h0QiMa8RWqqn4JNsiRrdMEcP4Tzi59EkwY8oU2B+njh29s6hqX66tjACU/ztzDATSGSoiPRvlnPqjpm+MqfD+lhNbUVjpPfksB1NUFthI4J22UCw7xlhqtB3URrO3iRe0GpkfTRtZMTyf4zSCA2z+YhrmosC8rcfUKVrQVm31f6KF8lCzgEjRNzb3KvwOap0y0D1GtBLCxYOKTOyTdJ5lPZ5abYYnSe65kWmqHP5eIhI6/c/xhoQTerRSObA1bHxVEMY2KzYMVv5Q1AukbSl6ggAzcxF4sDgoB2uSCoih4KhR8G4Dyrh/ntu6E3EeNx+qkbPYg99j3o+WTOKbM2H+dGaOIIQlCS/ImIRHCAqLMbpOkPDSzHxuygTSWRSp/SIGsDG6jmUJQ57fw/wzJdxkSqE+7OUGGjs5jSrJ6zh6w3RZDt9JYjh8131bVMqfP9qxwgAAAAwAAAwAAAwAJaQAAAEZBmiRsQ3/+p4QAAAMCbcibwXi2AFqoZ3P/fY/fUvapqC9BLk6TkKCHgR6vm6ere5Mv8nmrwHxR0PyxH1Mo3P3agVhwCitwAAAAGkGeQniFfwAAAwC/EqT/KczY/xo/IiHy2eSBAAAAGgGeYXRCvwAAAwC/STp+Cj7Kt+KBYk/1RDuTAAAADwGeY2pCvwAAAwAAAwCtgAAAABdBmmhJqEFomUwIX//+jLAAAAMAAAMDQgAAABFBnoZFESwv/wAAAwAAAwB8wQAAAA8BnqV0Qr8AAAMAAAMArYAAAAAPAZ6nakK/AAADAAADAK2BAAAAREGarEmoQWyZTAhf//6MsAAAQgL5xdwXpKEEeTEALeQD733xQp8JZKoHaoSRjSsQzBaeaMn6v4fyjxaAcbf5IWempSRgAAAAP0GeykUVLC//AAAKPPrzrxvg7eq3N2up+oAS1Lr75/7piPgsxSgzLUBSj3eTQ0PbjPioxy4aGzsCLtcJIRnkgQAAABsBnul0Qr8AAAMB5ovWg7wNKuyKapPGJF9DmUcAAAAeAZ7rakK/AAAN063jNZk/Oewr1zrhpiv8WYNKnXHBAAAAPEGa8EmoQWyZTAhv//6nhAAAAwJrexrJuDB/ODSq11BSNElQDxFL0GqfbKLFFVYc9W1MGRDSmd0Gb5EnywAAAB5Bnw5FFSwv/wAAAwPNC7Ss8j2CzoGKucyCuLUZp5MAAAAfAZ8tdEK/AAADAetxl73i4ydasRbxXs33bm3a2zydxwAAAA8Bny9qQr8AAAVCxwAAIeEAAABTQZs0SahBbJlMCF///oywAAAJP8HVAFIk7QAFz7gwv+9YD8S87SY1+pvajIge34v+J0/QUtyNxBtF7Nr6z73bVgcCMOAXL4qnX44F+CnMz6LaMhwAAAAhQZ9SRRUsL/8AAAMDzRKz4m++Ofvy8++e2C0x1LDfiuOAAAAADwGfcXRCvwAABUE4yAApIQAAAB0Bn3NqQr8AAAVCx2IcQB1MM/T81dFg6Dh7/EhKMQAAACtBm3hJqEFsmUwIb//+p4QAABDSLuB/n4RK9DOeDy5KXla61PXXhAY43RExAAAANEGflkUVLC//AAAKOxtmjwAlzj5hJ22HwAlTktuSne5NezYPf/Y7yIkdzBWg2e1Zo8V7yKgAAAAeAZ+1dEK/AAAN1Il5nGVZ+inEHvDeEgbICBVXWy44AAAAHQGft2pCvwAAAwHxZ2Vd55SQ/Qio5Zd+auTmUFclAAAAGEGbvEmoQWyZTAhv//6nhAAAAwAAAwDUgAAAABFBn9pFFSwv/wAAAwAAAwB8wAAAAA8Bn/l0Qr8AAAMAAAMArYEAAAAPAZ/7akK/AAADAAADAK2AAAAASkGb4EmoQWyZTAhf//6MsAAAAwN4kBelPZoANm2S9P9JnV0EFce8IluG39iNsEUv+ZSPFNe3lt6Lj5ZYW3PmBxQoa+N3QUHiWPL5AAAAHkGeHkUVLC//AAADAIbn2oUaIqY+KmqeDw4IPS1+TQAAAA8Bnj10Qr8AAAMAAAMArYAAAAAwAZ4/akK/AAAN0Gh7MiwhHZ58U4ThtEAJZGC1/+zIlCGGgvuEg7HxHZBEJxycFYeTAAAAKkGaJEmoQWyZTAhv//6nhAAAENIu4H+cGQe5ET76d3jnnIq+ju8sGUUh6QAAADVBnkJFFSwv/wAACjsbai2sxMXl3jqMIABaY/dH/4/dFuO/wf15/C9g7qZDjwBu9XoqyUd3HQAAACABnmF0Qr8AAA3P/LpuSmULvE7NcepCzXYArhOr841yQQAAABsBnmNqQr8AAAMAR3ZEUz1Rl5Z3B1ijaExRjyQAAAA9QZpoSahBbJlMCF///oywAAAJP8HVAFB8lp+FaE6bg8dTzpTmMwYUgGoztHvw0KkrOjCJESs8FJ3aBpkrngAAAB1BnoZFFSwv/wAAAwCGz/UAK924EW5yVDMzkGPkwQAAAB0BnqV0Qr8AAAMB5ovWg7wNKumRzajOpZmVoWVyjAAAAA8BnqdqQr8AAAMAAAMArYEAAABRQZqsSahBbJlMCF///oywAABCAvnF3BebnU6PHyOACV9Ufku9Q+fySsA7X012qyhcb4L0eUgDBSsN+uq46U5DxRsw2lA0jYkX+JgU39GLdlxhAAAAJEGeykUVLC//AAAKOxtqLa5wg0Xkbi2krIAO/Asbsl5lv/A3HQAAABgBnul0Qr8AAA3UiXoYdEYytM5q2GkiGzEAAAAcAZ7rakK/AAADAfFmfGazJ+c9hKuFvxKoDBq7kwAAAC1BmvBJqEFsmUwIX//+jLAAAAmCPau134+udQQUyQNPavjA4FunI7Bgq6ldRB0AAAAeQZ8ORRUsL/8AAAMBdGQL1dpED4jbR6pVmOGNl1yQAAAAHwGfLXRCvwAAAwHl4nlmxQpwrKCMcxhNMP4H+ydtXJAAAAARAZ8vakK/AAADAeZnUYfQC8kAAAA6QZs0SahBbJlMCF///oywAABCAvnF3Bee5Eb/QkwCzN6wBWdxm6YbKJEuoGs6frm550e1ME/xgXMq3AAAAC5Bn1JFFSwv/wAACjz69KOWYoqE5RcEiAEJquo2v/XQZWn7GvnIJR7GMvFw2JFSAAAAHwGfcXRCvwAAAwHhUN5omSLgXasCT2V00GHLjkUDSjEAAAAYAZ9zakK/AAAN0Rn0HArU95nPV+VFGhKxAAAATUGbeEmoQWyZTAhf//6MsAAAQgL5xdwXm40trCQ9u/9mOGAAiSDc2QBqU9EeY/z+X/47XvwIYZux42elzqE0L/fEWERHf5S0Fa5fdK2BAAAAG0GflkUVLC//AAAKPPr0o5Zi6O3h0SjtgGN6kgAAABABn7V0Qr8AAAMB5eJaABvQAAAAGAGft2pCvwAADdOt4zWZPznsJVgdC7PUkQAAADdBm7xJqEFsmUwIb//+p4QAAAMCapnMjBg/nBpVa6gpPLx3TPmAlwelDTsEx/zb2s3PBTOCGVuAAAAAH0Gf2kUVLC//AAADAXSf8P7kfQna/S11Vj95kW3DpckAAAAPAZ/5dEK/AAADAAADAK2BAAAAHAGf+2pCvwAAAwHxZ1GGeBVGZvu4p8/ZqHRm3HAAAABRQZvgSahBbJlMCF///oywAAAJRQ/SmuHrPiAA408l6fS8U7mf1TkO0cbmPo0LrlScC+nemV964vXyYL9gzm4D4eRTItdLiJkXBn4KTsUDTCXPAAAAH0GeHkUVLC//AAADAWuf9c2k7M0iToKiB2jEKaV9kO8AAAAPAZ49dEK/AAADAAADAK2AAAAAHQGeP2pCvwAAAwHmZ1GMykX1lPNOyX5XkXX0CYdxAAAALEGaJEmoQWyZTAhv//6nhAAAENIuvGAdB2d+qsifn6WhBt8Svo7WgglmgCpgAAAAIkGeQkUVLC//AAAKPPr0o5ZigGXdQO+Xxl5kdBRY//UpqzEAAAAdAZ5hdEK/AAADAeaL1oO5X4BHQNJHqfyDwbg3DsEAAAAwAZ5jakK/AAAN0Rn0HA/Qabx2jSxAC1dAWv/PlGG5KsZ1Pt2UE3zPwOgzaIKxmOmAAAAAGEGaaEmoQWyZTAhv//6nhAAAAwAAAwDUgAAAADpBnoZFFSwv/wAAAwF0LlQ8GtrQoAWgbXHgX+jwGV8VShs+MpDcrQ+a4lg8aF//SJ3T7rKsXQ+0fvHTAAAAHAGepXRCvwAAAwHxi9Z053icA0PCtdukNOXoVYAAAAAdAZ6nakK/AAADAL87PHiEpBIimXI5vW932V946YEAAABJQZqsSahBbJlMCF///oywAAADA3oh9kEn1AATtuQFHiHxkI285Y50jcoYUXN1Y9+lf7W9BwWvt9LQlCOCAxn+Sv3AOOh756X+YAAAACFBnspFFSwv/wAAAwFqy9djZNLGcgOrFddPYlfWlZlaHcEAAAAcAZ7pdEK/AAADAeaL1oO8DSrsimqTxiRfO7vuzQAAAA8BnutqQr8AAAMAAAMArYEAAAAqQZrwSahBbJlMCF///oywAABCAvi1nH+XV4jp680xIPNID6pH64STdtOnAAAAGUGfDkUVLC//AAAKOxtqLaux+29PySC9p6QAAAAYAZ8tdEK/AAANz/y6bknKpAeXjxoAfDUgAAAADwGfL2pCvwAAAwAAAwCtgQAAAF9BmzRJqEFsmUwIX//+jLAAAEIDEbytTHfHFAqd8fj/aUFIyCZheavZ1Zzs7vYw9L5IbhFCiAf84OZ4UJOLAjMtrs3fj3EH5uzgMJZHiJ4CL4b1r8iIHHJYbjeC3ugl4AAAABlBn1JFFSwv/wAACjsbai2rsftvUvGItRxwAAAAFwGfcXRCvwAADdSJehh0RjDQD/9cgupJAAAADwGfc2pCvwAAAwAAAwCtgQAAADpBm3hJqEFsmUwIX//+jLAAAEJ+J4D+/a3ItBH0Y410sXT8vnvEgLC+yfcZG5G/Nixs//fvIvjlSda7AAAAHEGflkUVLC//AAAKOyc3B9lAHnuGe8ObwnEkvKMAAAAbAZ+1dEK/AAAN1JOpG/qaP8d5QSloTzKXJTtgAAAADwGft2pCvwAAAwAAAwCtgQAAADtBm7xJqEFsmUwIb//+p4QAABBSLzEkPX5m1In5NqWPRtHYpcDYcqX4grqHvy6l0svPXgm7x3S5CjampwAAADBBn9pFFSwv/wAACfT/rk397QqrbKxiUAJG4zs+fsdFv8/lm4thqph8l1IAycxKPjgAAAAaAZ/5dEK/AAADAeaL1nT+S8FzE3CrDRxGdsEAAAAVAZ/7akK/AAANg7PIB7yLsV1ufjQgAAAAGkGb4EmoQWyZTAhv//6nhAAAAwABubUENG3BAAAAMkGeHkUVLC//AAADAIaTqp5nVqpuoAC29v+QsXpM/mVrmyoA+mnJby8LgH1ww1s1dm45AAAAGQGePXRCvwAAAwC6ZiKRv6tM3KY/xTLGxFQAAAAbAZ4/akK/AAADALpY3H++FtoAkFgIE9yuKsRVAAAAT0GaJEmoQWyZTAhf//6MsAAACUUP0prO75JVbAAtWkrvxf1TufzlDVhqDSTeqAkhytuYBcLJAJM0ZoPtHj+rqWhWBdGrzV/C8BinGcDL9MAAAAAeQZ5CRRUsL/8AAAMBa5/1yoL8BNMNcODfXrDp57phAAAADwGeYXRCvwAAAwAAAwCtgQAAADMBnmNqQr8AAA2AaMSTB2Iec+HJ61HB/RQAlkYLXWIAd7z+WzIRliI+JlPZJsU+v6sPtqQAAAA7QZpoSahBbJlMCF///oywAABAAvvQGuTHCh8eJ2IcnT0BwV3HUkACbIzbHZVeEqysLe10IXmzEDqNjEAAAAAhQZ6GRRUsL/8AAAnzJzcYR20XwnvkwOqkwuNaqUq1t7unAAAAFQGepXRCvwAADYAGWaRpzvM4nv46kgAAABwBnqdqQr8AAAMB5mdRhnvRdnera6drQ/QMGOmBAAAAaEGarEmoQWyZTAhf//6MsAAAQAL70BrnCNosNkgiHwXa4AH76jfC0sIw8j63QIkbt2nkfVDPHjfKHK+wyw5N3YxHm7ErYcojLnVRNOPoDs4DqTwlvff6aHTvBDQIhTqpec+SAgMwIY+AAAAAIUGeykUVLC//AAAJ9P+uVh4hRvgyuw9wQ62OEUu5t7dnpwAAABoBnul0Qr8AAAMAumYikb+rTN1EQF0g9OPumQAAABcBnutqQr8AAA2Ds8gHvIuo8EAvrKNPmQAAADNBmvBJqEFsmUwIb//+p4QAAAMA4iS8yn+wf06V6ur6xTNbzLpN/rHAWxtmTaj/xHPMj2EAAAAgQZ8ORRUsL/8AAAMAhufQvsi9Sru9mC+4OKEMS5Vn6YAAAAARAZ8tdEK/AAADAENdiM20FVAAAAA3AZ8vakK/AAADALpY3IB56qeuUsbDZf/jt5zpgA2tajW3CcjXdNxCh/t4skasqQGwpIwxp4aKwQAAAEtBmzRJqEFsmUwIX//+jLAAAAMDeiH0HX77LAAIg3IwH9n2i2e1xuAunx/9vPJRYzIM33iz1ssmilulj4RYu+Nwj3evV1VZ/duz3TAAAAApQZ9SRRUsL/8AAAMBazyGIjCWE+IATSq6Gn+PbfE1kYTenh0VRLfAM+AAAAAeAZ9xdEK/AAADAeFQ3pPgRb6VG7crfPzbe1RQzc+BAAAAFAGfc2pCvwAAAwHmZ2VdKlRVcQ25AAAAKEGbeEmoQWyZTAhf//6MsAAAQAL70Brp4NexVBgKaSklGJt53Mjd03cAAAAZQZ+WRRUsL/8AAAnzJzcH2UCGPJf4p/kZkAAAABYBn7V0Qr8AAA2ABlmkac7zJ0xlvqfMAAAAEAGft2pCvwAAAwAZx2gAG9EAAAA/QZu8SahBbJlMCF///oywAABAAvvQGuW6XyVtE2PxwaHAAFrIUV460KHmaNDMS1vxUGg+13LN2PWbooANwFxAAAAAMEGf2kUVLC//AAAJ9P+uTCEi1oO0/2nAALqFvrLvYJLRVb1JVtbwoA1XiOR/L+izYAAAABwBn/l0Qr8AAAMB5ovWdP5DV2SeI6hNitWm5umBAAAAKAGf+2pCvwAADYOzyAe8i6++1SWuFoi/i+Pnt5QDoj6dqGoAtfzwi6YAAAAvQZvgSahBbJlMCF///oywAAAJQo6nXxeQXT05pfpm13QMancuzLcb/NKyfoPJ3oEAAAAdQZ4eRRUsL/8AAAMBa2Tm4Psigq69LOcUw2bxyzcAAAAcAZ49dEK/AAADAeaL1nT+Q1dHn8ZT/NJ+7CT9MAAAABIBnj9qQr8AAAMAGcdntP7Q34EAAAA3QZokSahBbJlMCG///qeEAAAQUi7gf5wZB6b2p1PNaWBohyKdfPQokWYBdSJHI+PKCf4wLjFggAAAAC9BnkJFFSwv/wAACfMbai2rOKvie3ZwGdiWW/aJfgASzlHv/p+iUIwHCO88cs6bpwAAABkBnmF0Qr8AAA2EiXoYdEYw0BBITeICvLpvAAAAHAGeY2pCvwAAAwHmZ2VdKAGAcjhkvHAxJkS6umAAAABXQZpoSahBbJlMCF///oywAAAI/8HVAFIlKYgButyAo+sFUjPUJsDNBE/OcF04qWLgGHWQFQneNafDlrrCYcV8jaNYebulWh/y+/kklVBM/Jz0Yrb6HEXYAAAAH0GehkUVLC//AAADAWKf9c2k7M0iToKiB2jEKaZ8I+EAAAAPAZ6ldEK/AAADAAADAK2AAAAAHAGep2pCvwAAAwHbZ1GMykX1lPNOyX5XkXX9QR8AAAAqQZqsSahBbJlMCGf//p4QAAA/X2YS6BLTrGCMY/C++6ALQXVxJae+3URsAAAAG0GeykUVLC//AAAJ9Pr0o5ZiJc4jVMTGq/xUwQAAAA8Bnul0Qr8AAAMAAAMArYEAAAAXAZ7rakK/AAANgRn0HAuzDePixj4VWcEAAAAxQZrwSahBbJlMCFf//jhAAAAinHISNSLNM/gLg3JrV3P86dNY3n2wU+7zyRFi6QUXYQAAAB9Bnw5FFSwv/wAAAwFin/XNpOzNIk6CogdoxCmmfCPgAAAADwGfLXRCvwAAAwAAAwCtgAAAABwBny9qQr8AAAMB22dRjMpF9ZTzTsl+V5F1/UEfAAAAL0GbMUmoQWyZTAhv//6nhAAAEFl5hiUQExPpvtHxbp6FGo5K4nnjiGI4r9gNsBxwAAAAFkGbVUnhClJlMCF//oywAAADAAADA0IAAAA6QZ9zRTRML/8AAAMBasCuU1JaQeGKoASnpV8Ov7MwYkj3ZmXcEYEWZRhF40o32X87CAdu7OX9IAHpgQAAAB0Bn5J0Qr8AAAMB5eJLNIWy7NVpK84o+6l5N1h82QAAABoBn5RqQr8AAAMB5geaZ1vJ0W3Mz02BE3ofNwAAADVBm5lJqEFomUwIX//+jLAAAEAC+cXcF6bNGvvvZb7kwRbBrvwIn7gsAl/PDmOY9TT0/mfiBgAAADVBn7dFESwv/wAACfT69KOWYk/O3EZpiAEJ089+20EmkhFDVXKvW6rwBigseVjFRWEFeOfNgAAAABsBn9Z0Qr8AAAMB24vWg7wNKuyKapPGJF9DmVcAAAAfAZ/YakK/AAANgRn0HAuzDdnz0EDPVQUcJ5Nu0oUR8AAAADBBm91JqEFsmUwIX//+jLAAAAlPw19zyE29dIsqUN3G+3MkkBZwYO33GV4eymiinTAAAAAdQZ/7RRUsL/8AAAMBa2Tm4OfM4YLjWI2evJBp6YEAAAAbAZ4adEK/AAADAeXiSzSEyKB0XhRmnyo/IzumAAAADwGeHGpCvwAAAwAAAwCtgQAAADdBmgFJqEFsmUwIX//+jLAAAEAC+cXcF57hNCm/7f803lN4zWl48HEx2gg8J9wA9Hmak1SDLBpBAAAAHUGeP0UVLC//AAAJ8xtqLaux+29Pc/x9tPapc/lWAAAALQGeXnRCvwAADYSJehh0UO/I1FeoAP1maOvmG5/kzz+rOu3Z3ARuexosAT6VYQAAAA8BnkBqQr8AAAMAAAMArYAAAAA4QZpFSahBbJlMCF///oywAABAAvnF3Bebgm+WAuYaAAQfqlIf/xcy+HIFH3s+0dBtHhCoGJGeKCEAAAAaQZ5jRRUsL/8AAAn0+vSjlmIlziNVWX7rnVMAAAAPAZ6CdEK/AAADAAADAK2AAAAAGAGehGpCvwAADYOt4zWZPznsJVgdC7PVMAAAADRBmolJqEFsmUwIX//+jLAAAAlPw19+6Zv60dK9FahAO8z3jrBMxtfIV1k4F4nmalSTxkWDAAAAHkGep0UVLC//AAADAWtk7x3BDqbLMSU6pkEqyf4emAAAABsBnsZ0Qr8AAAMB5eJLNITIoHReFGafKj8jO6cAAAAQAZ7IakK/AAADALpY4AAekAAAADlBms1JqEFsmUwIb//+p4QAABBSLuB/nBnT1Pj82yU4+P8cHKF3+VNS+u/aEZt/da0VCaD+n9R9TGkAAAAuQZ7rRRUsL/8AAAnzG2otrMS36S7zSS3SQ/EALdqqBbxEl0LHqh1EdxVZRwqD0wAAABgBnwp0Qr8AAA2EiXoYdEZU1wN+l5pscdMAAAA9AZ8MakK/AAADALpY3HfSy6JntzqKqGETnACA0CKdxW3P4B7AwoIonG8/5k5zOwVUTX0188L6VGQ3EwL/TQAAAExBmxFJqEFsmUwIX//+jLAAAAkET4ijtCJpNACWpdnc9XBcuX7rIdo3FDxf8C6DBOV9ybHq661TI5gARdKZWkQB2fU4D4KTpZPaVw0gAAAAH0GfL0UVLC//AAADAWKf9c2k7M0iToKiB2jEKaZ8I+AAAAAPAZ9OdEK/AAADAAADAK2BAAAAHgGfUGpCvwAAAwHbB5qDGFp5Ep5qSZH934xmhzbrfAAAAClBm1VJqEFsmUwIX//+jLAAAEAC+cXcF56QSQYigYrvi/99mUH3STjXEAAAABlBn3NFFSwv/wAACfMbai2rsftvT8kgvafNAAAAGQGfknRCvwAADYSJehh0RjDP9NmftPW/as8AAAAPAZ+UakK/AAADAAADAK2BAAAAT0GbmUmoQWyZTAhf//6MsAAAQAL4tZx/lfdZG1EARMJTqfDKD0w6/btTNf8BWJqh7XZ6bNadIAkAJl0UQz9p48s7+XDX3iQe9Ps0C4qillAAAAAaQZ+3RRUsL/8AAAn0+vSjlmIlziNVWX7rnVMAAAAPAZ/WdEK/AAADAAADAK2BAAAAFwGf2GpCvwAADYEZ9BwLsw3j9iuJ+OmAAAAANEGb3UmoQWyZTAhf//6MsAAAAwN5TCd3a76LppzKpxufwe+HM8gifsn+DQ2DYf1/R1EmtS0AAAAeQZ/7RRUsL/8AAAMAhufQv4RZwHU+wsMPPqKt782BAAAADwGeGnRCvwAAAwAAAwCtgAAAABwBnhxqQr8AAAMB4VDej6WWf3WUwc8MvDEnzJ6ZAAAAOkGaAUmoQWyZTAhf//6MsAAAQAL4tZx/nT3/qumvEjbMS9XrcTaoWotWz2gh1G+WBO/5tAE8z0CtoIEAAAAlQZ4/RRUsL/8AAAnzG2otrMSzvqSufj3f/t+lhE/zqmtRdg90wAAAABgBnl50Qr8AAA1//LpuScqkB5e1UGqsjYEAAAAaAZ5AakK/AAADAeYHmmdbydFtzM9NgRN6HzYAAAA+QZpFSahBbJlMCG///qeEAAAQb5HD55CLJM9Z7cFkyK2CDPOT4Xk4PRvVBahfMfNxOKLMg5wWHpkMYuKWaRcAAABFQZ5jRRUsL/8AAAn0+vSjlmGoORYCPhKALzOzFjOEFb/ZfFUAf1PSlXE96H+EtjmG4KWFby8WBFkEdP5MTmFEl1lFSd+pAAAAPgGegnRCvwAAAwBFXT/Tck5VzY6ZCEm0ZhCAHBajLz+OOkyu6xYIWrCgq2gS1XTVQ+SC4Xb67spe897/u/pgAAAAGQGehGpCvwAADYOt4zWZPznxHLQ8RoiUm4AAAAAXQZqJSahBbJlMCF///oywAAADAAADA0MAAAARQZ6nRRUsL/8AAAMAAAMAfMAAAAAPAZ7GdEK/AAADAAADAK2BAAAADwGeyGpCvwAAAwAAAwCtgAAAADZBms1JqEFsmUwIX//+jLAAAD5dydfbK63KHx4prrvbc6Rn4bUzhYFzgOb9fJhyEbjwUobf/UEAAAAcQZ7rRRUsL/8AAAms/gCYrSgN26AQ4/XxkUFZgQAAAC0Bnwp0Qr8AAA00k6j8clnxkgNssgATKOly7AO+fy1dUrTDYEZWoFi0eim1Cs0AAAAPAZ8MakK/AAADAAADAK2BAAAAM0GbEUmoQWyZTAhf//6MsAAAPl3J19stVjNEXnnHt7CZ7XPThsAaI3eCejt9BknP5lMh4AAAACRBny9FFSwv/wAACaz+AJitKIAAAmlNOo2I5bfy5CciBYwLI2AAAAAVAZ9OdEK/AAANNJOpG/qagzGIJQwpAAAAEAGfUGpCvwAAAwBDdnAAKmAAAAA5QZtVSahBbJlMCF///oywAAADAUoLrevbp9hJph0DiQ1lC8F6V/pAUyD+kN4zPPN/BMejh1cX5XhAAAAAH0Gfc0UVLC//AAADAV6kLrRsIYqzMcAczlitJnJd6AEAAAAbAZ+SdEK/AAADAdriSzSNOd8gZBgtn2x6+I7pAAAAEQGflGpCvwAAAwHbZ1GH0AwZAAAAlkGbmUmoQWyZTAhf//6MsAAAPl3J19suH4TrjUShs+RkAAiDcjAfriZneciBurJezRT3EXFcr6etlk++XLkbkDsTC450u535XI9J94QB68ovdkWSYAsw9GL0+IDkp//qa08wqMaPvpvROB8XKMfrZyh4qd/rueECHgoJFwKxx2ffL385HIcCkCGhc3/OHyFG+6JjO3bs+AAAACZBn7dFFSwv/wAACaz+AGBi5snG0b6BePFhgKjZhsRg06pcmhXH3QAAACcBn9Z0Qr8AAA00k6kPhS6VZswACdUpoN+tLpFPevl8pL6cWMza3Q0AAAAXAZ/YakK/AAADAdtnUYZ70XYr4ED/rHwAAAA2QZvcSahBbJlMCF///oywAAA+XcnX2zALp77hvCKsfltGZBcDQJ3jRc7SNCRpxNXt9b+q6ENsAAAAIEGf+kUVLCv/AAANM7PIC1/AfLWQlJ9brsqG3NpQQNSBAAAALwGeG2pCvwAADTEqUxC2brq6ypLIAEyi/nqp6FOfyz2BwwqQHIgaPBhVcLkt63oYAAAARkGaAEmoQWyZTAhf//6MsAAAPl3J19stVjNLIybk/LqLYEADeCf4eRq3tUkfyUiIcLwE6hUNNtavvcq9d/ptZHgZ+ZOUh4EAAAAYQZ4+RRUsL/8AAAmufQwiC/AS8ZGVhI6ZAAAADwGeXXRCvwAAAwAAAwCtgAAAACkBnl9qQr8AAA0zs8gHvIuvvtUiTSBcUk9LWCeVnWzW9Prj6/zlYilJeQAAACtBmkRJqEFsmUwIX//+jLAAAAkCH959u1XkNez9hVpzefKHRCV9vvEb/biAAAAAHkGeYkUVLC//AAADAWKf9cqC/ATSDJwM+fhsrTjugQAAACEBnoF0Qr8AAAMAQb8iUA0gXFJPS1gnlZ1s1vT64+1+A7sAAAAbAZ6DakK/AAADALXY3IB7yPn2sCsJXX7pBtGAAAAAL0GaiEmoQWyZTAhv//6nhAAAD9hil5n4hQgV2+N+PS+lExwDSdBdTwU88xA+p1DmAAAAH0GepkUVLC//AAAJrnnYHuZiJc4jVL0Blu/xk/xLOSkAAAAPAZ7FdEK/AAADAAADAK2AAAAAMAGex2pCvwAADTEZ9BwIy5SKvcKOAAcVS3Df8kxKylpJ9HiOF0++cFuOxYwMpyt3dQAAAEJBmsxJqEFsmUwIX//+jLAAAAi/wdUAUiUpiAEKbkBR9YH5CPQHh2v2rWa/Dkn042mUDdOeuyJLKF4301upkn01EOYAAAAfQZ7qRRUsL/8AAAMBWZ/1zaTszSJOgqIHaMQppnwlIQAAAA8Bnwl0Qr8AAAMAAAMArYEAAAAcAZ8LakK/AAADAdBnUYzKRfWU807JfleRdf1BKQAAACZBmxBJqEFsmUwIX//+jLAAAD5dyGQw0q1kETyRQMV3xf++zC09IQAAABlBny5FFSwv/wAACaz1pi2rsftvT8kgvaf4AAAAGAGfTXRCvwAADS/8um5JyqQHl48aAHw3oAAAAA8Bn09qQr8AAAMAAAMArYEAAAAvQZtUSahBbJlMCF///oywAAA+XchkMNKtlkvzu/Av6xSqq2jhlAj+mvpyIH0gocwAAAAdQZ9yRRUsL/8AAAms9aYtq7H7b09z/H209qlz+WYAAAAuAZ+RdEK/AAANL/y6bkmNq0cYs6ZgcAAnEK4y/3SMPEzDRd8YTj0aYi2wfeglmQAAAA8Bn5NqQr8AAAMAAAMArYEAAAAuQZuYSahBbJlMCF///oywAAA+XchkMNKtlkvzu/Av6xSqq2jhk6eCnk0IH0qocwAAAC9Bn7ZFFSwv/wAACa552B7mYk/O3EZpiAEJ089+20EmXiZqHEyrCPM5QQcu3diWYAAAABsBn9V0Qr8AAAMB0IvWg7wNKuyKapPGJF9DmWYAAAAWAZ/XakK/AAANMRn0HAuzDePixnqHHQAAABZBm9lJqEFsmUwIV//+OEAAAAMAAAyoAAAaf21vb3YAAABsbXZoZAAAAAAAAAAAAAAAAAAAA+gAAE4gAAEAAAEAAAAAAAAAAAAAAAABAAAAAAAAAAAAAAAAAAAAAQAAAAAAAAAAAAAAAAAAQAAAAAAAAAAAAAAAAAAAAAAAAAAAAAAAAAAAAAAAAAIAABmpdHJhawAAAFx0a2hkAAAAAwAAAAAAAAAAAAAAAQAAAAAAAE4gAAAAAAAAAAAAAAAAAAAAAAABAAAAAAAAAAAAAAAAAAAAAQAAAAAAAAAAAAAAAAAAQAAAAAJYAAABkAAAAAAAJGVkdHMAAAAcZWxzdAAAAAAAAAABAABOIAAABAAAAQAAAAAZIW1kaWEAAAAgbWRoZAAAAAAAAAAAAAAAAAAAMgAAA+gAVcQAAAAAAC1oZGxyAAAAAAAAAAB2aWRlAAAAAAAAAAAAAAAAVmlkZW9IYW5kbGVyAAAAGMxtaW5mAAAAFHZtaGQAAAABAAAAAAAAAAAAAAAkZGluZgAAABxkcmVmAAAAAAAAAAEAAAAMdXJsIAAAAAEAABiMc3RibAAAAJhzdHNkAAAAAAAAAAEAAACIYXZjMQAAAAAAAAABAAAAAAAAAAAAAAAAAAAAAAJYAZAASAAAAEgAAAAAAAAAAQAAAAAAAAAAAAAAAAAAAAAAAAAAAAAAAAAAAAAAAAAAABj//wAAADJhdmNDAfQAHv/hABpn9AAekZsoEwZ8TwgAAAMACAAAAwGQeLFssAEABWjr48RIAAAAGHN0dHMAAAAAAAAAAQAAAfQAAAIAAAAAGHN0c3MAAAAAAAAAAgAAAAEAAAD7AAAPqGN0dHMAAAAAAAAB8wAAAAEAAAQAAAAAAQAACgAAAAABAAAEAAAAAAEAAAAAAAAAAQAAAgAAAAABAAAKAAAAAAEAAAQAAAAAAQAAAAAAAAABAAACAAAAAAEAAAoAAAAAAQAABAAAAAABAAAAAAAAAAEAAAIAAAAAAQAACgAAAAABAAAEAAAAAAEAAAAAAAAAAQAAAgAAAAABAAAKAAAAAAEAAAQAAAAAAQAAAAAAAAABAAACAAAAAAEAAAoAAAAAAQAABAAAAAABAAAAAAAAAAEAAAIAAAAAAQAACgAAAAABAAAEAAAAAAEAAAAAAAAAAQAAAgAAAAABAAAKAAAAAAEAAAQAAAAAAQAAAAAAAAABAAACAAAAAAEAAAoAAAAAAQAABAAAAAABAAAAAAAAAAEAAAIAAAAAAQAACgAAAAABAAAEAAAAAAEAAAAAAAAAAQAAAgAAAAABAAAKAAAAAAEAAAQAAAAAAQAAAAAAAAABAAACAAAAAAEAAAoAAAAAAQAABAAAAAABAAAAAAAAAAEAAAIAAAAAAQAACgAAAAABAAAEAAAAAAEAAAAAAAAAAQAAAgAAAAABAAAKAAAAAAEAAAQAAAAAAQAAAAAAAAABAAACAAAAAAEAAAoAAAAAAQAABAAAAAABAAAAAAAAAAEAAAIAAAAAAQAACgAAAAABAAAEAAAAAAEAAAAAAAAAAQAAAgAAAAABAAAEAAAAAAEAAAoAAAAAAQAABAAAAAABAAAAAAAAAAEAAAIAAAAAAQAACgAAAAABAAAEAAAAAAEAAAAAAAAAAQAAAgAAAAABAAAKAAAAAAEAAAQAAAAAAQAAAAAAAAABAAACAAAAAAEAAAoAAAAAAQAABAAAAAABAAAAAAAAAAEAAAIAAAAAAQAACgAAAAABAAAEAAAAAAEAAAAAAAAAAQAAAgAAAAABAAAKAAAAAAEAAAQAAAAAAQAAAAAAAAABAAACAAAAAAEAAAoAAAAAAQAABAAAAAABAAAAAAAAAAEAAAIAAAAAAQAACgAAAAABAAAEAAAAAAEAAAAAAAAAAQAAAgAAAAABAAAKAAAAAAEAAAQAAAAAAQAAAAAAAAABAAACAAAAAAEAAAoAAAAAAQAABAAAAAABAAAAAAAAAAEAAAIAAAAAAQAACgAAAAABAAAEAAAAAAEAAAAAAAAAAQAAAgAAAAABAAAKAAAAAAEAAAQAAAAAAQAAAAAAAAABAAACAAAAAAEAAAoAAAAAAQAABAAAAAABAAAAAAAAAAEAAAIAAAAAAQAACgAAAAABAAAEAAAAAAEAAAAAAAAAAQAAAgAAAAABAAAKAAAAAAEAAAQAAAAAAQAAAAAAAAABAAACAAAAAAEAAAoAAAAAAQAABAAAAAABAAAAAAAAAAEAAAIAAAAAAQAACgAAAAABAAAEAAAAAAEAAAAAAAAAAQAAAgAAAAABAAAKAAAAAAEAAAQAAAAAAQAAAAAAAAABAAACAAAAAAEAAAoAAAAAAQAABAAAAAABAAAAAAAAAAEAAAIAAAAAAQAACgAAAAABAAAEAAAAAAEAAAAAAAAAAQAAAgAAAAABAAAKAAAAAAEAAAQAAAAAAQAAAAAAAAABAAACAAAAAAEAAAoAAAAAAQAABAAAAAABAAAAAAAAAAEAAAIAAAAAAQAACgAAAAABAAAEAAAAAAEAAAAAAAAAAQAAAgAAAAABAAAKAAAAAAEAAAQAAAAAAQAAAAAAAAABAAACAAAAAAEAAAoAAAAAAQAABAAAAAABAAAAAAAAAAEAAAIAAAAAAQAACgAAAAABAAAEAAAAAAEAAAAAAAAAAQAAAgAAAAABAAAKAAAAAAEAAAQAAAAAAQAAAAAAAAABAAACAAAAAAEAAAoAAAAAAQAABAAAAAABAAAAAAAAAAEAAAIAAAAAAQAACgAAAAABAAAEAAAAAAEAAAAAAAAAAQAAAgAAAAABAAAKAAAAAAEAAAQAAAAAAQAAAAAAAAABAAACAAAAAAEAAAoAAAAAAQAABAAAAAABAAAAAAAAAAEAAAIAAAAAAQAACgAAAAABAAAEAAAAAAEAAAAAAAAAAQAAAgAAAAABAAAKAAAAAAEAAAQAAAAAAQAAAAAAAAABAAACAAAAAAEAAAoAAAAAAQAABAAAAAABAAAAAAAAAAEAAAIAAAAAAQAACgAAAAABAAAEAAAAAAEAAAAAAAAAAQAAAgAAAAABAAAKAAAAAAEAAAQAAAAAAQAAAAAAAAABAAACAAAAAAEAAAoAAAAAAQAABAAAAAABAAAAAAAAAAEAAAIAAAAAAQAACgAAAAABAAAEAAAAAAEAAAAAAAAAAQAAAgAAAAABAAAKAAAAAAEAAAQAAAAAAQAAAAAAAAABAAACAAAAAAEAAAoAAAAAAQAABAAAAAABAAAAAAAAAAEAAAIAAAAAAQAACgAAAAABAAAEAAAAAAEAAAAAAAAAAQAAAgAAAAABAAAKAAAAAAEAAAQAAAAAAQAAAAAAAAABAAACAAAAAAEAAAoAAAAAAQAABAAAAAABAAAAAAAAAAEAAAIAAAAAAQAACgAAAAABAAAEAAAAAAEAAAAAAAAAAQAAAgAAAAABAAAKAAAAAAEAAAQAAAAAAQAAAAAAAAABAAACAAAAAAEAAAoAAAAAAQAABAAAAAABAAAAAAAAAAEAAAIAAAAAAQAABAAAAAABAAAKAAAAAAEAAAQAAAAAAQAAAAAAAAABAAACAAAAAAEAAAoAAAAAAQAABAAAAAABAAAAAAAAAAEAAAIAAAAAAQAACgAAAAABAAAEAAAAAAEAAAAAAAAAAQAAAgAAAAABAAAKAAAAAAEAAAQAAAAAAQAAAAAAAAABAAACAAAAAAEAAAoAAAAAAQAABAAAAAABAAAAAAAAAAEAAAIAAAAAAQAACgAAAAABAAAEAAAAAAEAAAAAAAAAAQAAAgAAAAABAAAKAAAAAAEAAAQAAAAAAQAAAAAAAAABAAACAAAAAAEAAAoAAAAAAQAABAAAAAABAAAAAAAAAAEAAAIAAAAAAQAACgAAAAABAAAEAAAAAAEAAAAAAAAAAQAAAgAAAAABAAAKAAAAAAEAAAQAAAAAAQAAAAAAAAABAAACAAAAAAEAAAoAAAAAAQAABAAAAAABAAAAAAAAAAEAAAIAAAAAAQAACgAAAAABAAAEAAAAAAEAAAAAAAAAAQAAAgAAAAABAAAKAAAAAAEAAAQAAAAAAQAAAAAAAAABAAACAAAAAAEAAAoAAAAAAQAABAAAAAABAAAAAAAAAAEAAAIAAAAAAQAACgAAAAABAAAEAAAAAAEAAAAAAAAAAQAAAgAAAAABAAAKAAAAAAEAAAQAAAAAAQAAAAAAAAABAAACAAAAAAEAAAoAAAAAAQAABAAAAAABAAAAAAAAAAEAAAIAAAAAAQAACgAAAAABAAAEAAAAAAEAAAAAAAAAAQAAAgAAAAABAAAKAAAAAAEAAAQAAAAAAQAAAAAAAAABAAACAAAAAAEAAAoAAAAAAQAABAAAAAABAAAAAAAAAAEAAAIAAAAAAQAACgAAAAABAAAEAAAAAAEAAAAAAAAAAQAAAgAAAAABAAAKAAAAAAEAAAQAAAAAAQAAAAAAAAABAAACAAAAAAEAAAoAAAAAAQAABAAAAAABAAAAAAAAAAEAAAIAAAAAAQAACgAAAAABAAAEAAAAAAEAAAAAAAAAAQAAAgAAAAABAAAKAAAAAAEAAAQAAAAAAQAAAAAAAAABAAACAAAAAAEAAAoAAAAAAQAABAAAAAABAAAAAAAAAAEAAAIAAAAAAQAACgAAAAABAAAEAAAAAAEAAAAAAAAAAQAAAgAAAAABAAAKAAAAAAEAAAQAAAAAAQAAAAAAAAABAAACAAAAAAEAAAoAAAAAAQAABAAAAAABAAAAAAAAAAEAAAIAAAAAAQAACgAAAAABAAAEAAAAAAEAAAAAAAAAAQAAAgAAAAABAAAKAAAAAAEAAAQAAAAAAQAAAAAAAAABAAACAAAAAAEAAAoAAAAAAQAABAAAAAABAAAAAAAAAAEAAAIAAAAAAQAACgAAAAABAAAEAAAAAAEAAAAAAAAAAQAAAgAAAAABAAAKAAAAAAEAAAQAAAAAAQAAAAAAAAABAAACAAAAAAEAAAoAAAAAAQAABAAAAAABAAAAAAAAAAEAAAIAAAAAAQAACgAAAAABAAAEAAAAAAEAAAAAAAAAAQAAAgAAAAABAAAEAAAAAAEAAAoAAAAAAQAABAAAAAABAAAAAAAAAAEAAAIAAAAAAQAACgAAAAABAAAEAAAAAAEAAAAAAAAAAQAAAgAAAAABAAAKAAAAAAEAAAQAAAAAAQAAAAAAAAABAAACAAAAAAEAAAoAAAAAAQAABAAAAAABAAAAAAAAAAEAAAIAAAAAAQAACgAAAAABAAAEAAAAAAEAAAAAAAAAAQAAAgAAAAABAAAKAAAAAAEAAAQAAAAAAQAAAAAAAAABAAACAAAAAAEAAAoAAAAAAQAABAAAAAABAAAAAAAAAAEAAAIAAAAAAQAACgAAAAABAAAEAAAAAAEAAAAAAAAAAQAAAgAAAAABAAAKAAAAAAEAAAQAAAAAAQAAAAAAAAABAAACAAAAAAEAAAoAAAAAAQAABAAAAAABAAAAAAAAAAEAAAIAAAAAAQAACgAAAAABAAAEAAAAAAEAAAAAAAAAAQAAAgAAAAABAAAKAAAAAAEAAAQAAAAAAQAAAAAAAAABAAACAAAAAAEAAAoAAAAAAQAABAAAAAABAAAAAAAAAAEAAAIAAAAAAQAACgAAAAABAAAEAAAAAAEAAAAAAAAAAQAAAgAAAAABAAAKAAAAAAEAAAQAAAAAAQAAAAAAAAABAAACAAAAAAEAAAoAAAAAAQAABAAAAAABAAAAAAAAAAEAAAIAAAAAAQAACgAAAAABAAAEAAAAAAEAAAAAAAAAAQAAAgAAAAABAAAKAAAAAAEAAAQAAAAAAQAAAAAAAAABAAACAAAAAAEAAAgAAAAAAgAAAgAAAAABAAAKAAAAAAEAAAQAAAAAAQAAAAAAAAABAAACAAAAAAEAAAoAAAAAAQAABAAAAAABAAAAAAAAAAEAAAIAAAAAAQAACgAAAAABAAAEAAAAAAEAAAAAAAAAAQAAAgAAAAABAAAKAAAAAAEAAAQAAAAAAQAAAAAAAAABAAACAAAAAAEAAAoAAAAAAQAABAAAAAABAAAAAAAAAAEAAAIAAAAAAQAACgAAAAABAAAEAAAAAAEAAAAAAAAAAQAAAgAAAAABAAAKAAAAAAEAAAQAAAAAAQAAAAAAAAABAAACAAAAAAEAAAQAAAAAHHN0c2MAAAAAAAAAAQAAAAEAAAH0AAAAAQAAB+RzdHN6AAAAAAAAAAAAAAH0AAAFNAAAAHMAAAAiAAAAJwAAABQAAAC6AAAAKwAAACEAAAAoAAAAegAAADYAAAAyAAAAIAAAAD4AAAAlAAAAEwAAACEAAABiAAAAKgAAABUAAAAhAAAARwAAACUAAAAZAAAAHgAAAEMAAAAiAAAAEwAAADIAAABIAAAAIgAAABMAAAAgAAAAYgAAAEoAAAAdAAAAHgAAAEoAAAAiAAAAKgAAABQAAABJAAAATwAAACYAAAAcAAAAXwAAACUAAAAiAAAAFQAAADMAAAAjAAAAPQAAABQAAADSAAAATwAAACEAAAAgAAAAOAAAAB8AAAAjAAAAEwAAAEQAAAAnAAAAIAAAABUAAAA+AAAAUAAAACYAAAAfAAAAFAAAACcAAABNAAAAIQAAACEAAABIAAAAIQAAAB8AAAATAAAAGwAAAEIAAAAhAAAAHwAAAEUAAAAgAAAAHAAAABMAAABdAAAAJgAAAB8AAABBAAAAGwAAACQAAAAgAAAAHwAAAFAAAAAnAAAAKQAAABcAAAA6AAAAJQAAABYAAAAfAAAAGwAAABgAAAAVAAAAFQAAADcAAAA/AAAAIwAAACsAAAA4AAAAIQAAADQAAAAoAAAAOwAAACIAAAATAAAAHwAAAFIAAAAjAAAAHwAAACEAAAApAAAANgAAACAAAAAeAAAAHAAAABUAAAATAAAAEwAAABwAAAAVAAAAEwAAABMAAABMAAAAIgAAABMAAAAhAAAAKAAAAB0AAAAcAAAAEwAAABsAAAAVAAAAEwAAABMAAABDAAAAHgAAABsAAAAdAAAAOQAAACEAAAA4AAAAPgAAABwAAAAVAAAAEwAAABMAAABYAAAAIwAAABMAAAAeAAAAKAAAAB4AAAATAAAAGgAAABsAAAA/AAAAHwAAAB4AAABVAAAAUAAAAB4AAAAhAAAAGwAAACkAAAAfAAAAHgAAADgAAAAhAAAAHwAAABMAAABXAAAAIQAAABMAAAAfAAAAKQAAAB0AAAAUAAAAGQAAABwAAAAVAAAAEwAAABMAAABYAAAAIQAAABMAAAAfAAAAKAAAADkAAAAgAAAAHwAAABsAAAAWAAAAEwAAABMAAABLAAAAQAAAACIAAAAiAAAAKgAAACoAAAAfAAAAHQAAADMAAAAhAAAAHwAAABUAAAA/AAAAJgAAABkAAAAeAAAAHAAAABUAAAATAAAAEwAAAE4AAAAhAAAAEwAAADYAAABcAAAAIAAAADYAAAATAAAANgAAADsAAAAaAAAAGQAAAGgAAAAzAAAAIQAAABQAAABkAAAAJwAAABwAAAAgAAAANQAAACMAAAAfAAAAFQAAAoEAAABKAAAAHgAAAB4AAAATAAAAGwAAABUAAAATAAAAEwAAAEgAAABDAAAAHwAAACIAAABAAAAAIgAAACMAAAATAAAAVwAAACUAAAATAAAAIQAAAC8AAAA4AAAAIgAAACEAAAAcAAAAFQAAABMAAAATAAAATgAAACIAAAATAAAANAAAAC4AAAA5AAAAJAAAAB8AAABBAAAAIQAAACEAAAATAAAAVQAAACgAAAAcAAAAIAAAADEAAAAiAAAAIwAAABUAAAA+AAAAMgAAACMAAAAcAAAAUQAAAB8AAAAUAAAAHAAAADsAAAAjAAAAEwAAACAAAABVAAAAIwAAABMAAAAhAAAAMAAAACYAAAAhAAAANAAAABwAAAA+AAAAIAAAACEAAABNAAAAJQAAACAAAAATAAAALgAAAB0AAAAcAAAAEwAAAGMAAAAdAAAAGwAAABMAAAA+AAAAIAAAAB8AAAATAAAAPwAAADQAAAAeAAAAGQAAAB4AAAA2AAAAHQAAAB8AAABTAAAAIgAAABMAAAA3AAAAPwAAACUAAAAZAAAAIAAAAGwAAAAlAAAAHgAAABsAAAA3AAAAJAAAABUAAAA7AAAATwAAAC0AAAAiAAAAGAAAACwAAAAdAAAAGgAAABQAAABDAAAANAAAACAAAAAsAAAAMwAAACEAAAAgAAAAFgAAADsAAAAzAAAAHQAAACAAAABbAAAAIwAAABMAAAAgAAAALgAAAB8AAAATAAAAGwAAADUAAAAjAAAAEwAAACAAAAAzAAAAGgAAAD4AAAAhAAAAHgAAADkAAAA5AAAAHwAAACMAAAA0AAAAIQAAAB8AAAATAAAAOwAAACEAAAAxAAAAEwAAADwAAAAeAAAAEwAAABwAAAA4AAAAIgAAAB8AAAAUAAAAPQAAADIAAAAcAAAAQQAAAFAAAAAjAAAAEwAAACIAAAAtAAAAHQAAAB0AAAATAAAAUwAAAB4AAAATAAAAGwAAADgAAAAiAAAAEwAAACAAAAA+AAAAKQAAABwAAAAeAAAAQgAAAEkAAABCAAAAHQAAABsAAAAVAAAAEwAAABMAAAA6AAAAIAAAADEAAAATAAAANwAAACgAAAAZAAAAFAAAAD0AAAAjAAAAHwAAABUAAACaAAAAKgAAACsAAAAbAAAAOgAAACQAAAAzAAAASgAAABwAAAATAAAALQAAAC8AAAAiAAAAJQAAAB8AAAAzAAAAIwAAABMAAAA0AAAARgAAACMAAAATAAAAIAAAACoAAAAdAAAAHAAAABMAAAAzAAAAIQAAADIAAAATAAAAMgAAADMAAAAfAAAAGgAAABoAAAAUc3RjbwAAAAAAAAABAAAAMAAAAGJ1ZHRhAAAAWm1ldGEAAAAAAAAAIWhkbHIAAAAAAAAAAG1kaXJhcHBsAAAAAAAAAAAAAAAALWlsc3QAAAAlqXRvbwAAAB1kYXRhAAAAAQAAAABMYXZmNTguMjkuMTAw\" type=\"video/mp4\" />\n",
       "        </video>"
      ],
      "text/plain": [
       "<IPython.core.display.HTML object>"
      ]
     },
     "execution_count": 23,
     "metadata": {},
     "output_type": "execute_result"
    }
   ],
   "source": [
    "matplotlib.use('Agg') \n",
    "saved_cartpole = mdl.lab3.save_video_of_model(cartpole_model, \"CartPole-v1\")\n",
    "mdl.lab3.play_video(saved_cartpole)"
   ]
  },
  {
   "cell_type": "markdown",
   "metadata": {
    "id": "CSbVNDpaVb3_"
   },
   "source": [
    "How does the agent perform? Could you train it for shorter amounts of time and still perform well? Do you think that training longer would help even more? "
   ]
  },
  {
   "cell_type": "markdown",
   "metadata": {
    "id": "Eu6Mqxc720ST"
   },
   "source": [
    "# Part 2: Training Autonomous Driving Policies in VISTA\n",
    "Autonomous control has traditionally be dominated by algorithms that explicitly decompose individual aspects of the control pipeline. For example, in autonomous driving, traditional methods work by first detecting road and lane boundaries, and then using path planning and rule-based methods to derive a control policy. Deep learning offers something very different -- the possibility of optimizing all these steps simultaneously, learning control end-to-end directly from raw sensory inputs.\n",
    "\n",
    "**You will explore the power of deep learning to learn autonomous control policies that are trained *end-to-end, directly from raw sensory data, and entirely within a simulated world*.**\n",
    "\n",
    "We will use the data-driven simulation engine [VISTA](https://ieeexplore.ieee.org/stamp/stamp.jsp?arnumber=8957584&tag=1), which uses techniques in computer vision to synthesize new photorealistic trajectories and driving viewpoints, that are still consistent with the world's appearance and fall within the envelope of a real driving scene. This is a powerful approach -- we can synthesize data that is photorealistic, grounded in the real world, and then use this data for training and testing autonomous vehicle control policies within this simulator.\n",
    "\n",
    "In this part of the lab, you will use reinforcement lerning to build a self-driving agent with a neural network-based controller trained on RGB camera data. We will train the self-driving agent for the task of lane following. Beyond this data modality and control task, VISTA also supports [different data modalities](https://arxiv.org/pdf/2111.12083.pdf) (such as LiDAR data) and [different learning tasks](https://arxiv.org/pdf/2111.12137.pdf) (such as multi-car interactions).\n",
    "<p align=\"center\">\n",
    "<img src=\"https://raw.githubusercontent.com/aamini/introtodeeplearning/master/lab3/img/vista_overview.png\" width=\"600\"/>\n",
    "</p>\n",
    "\n",
    "\n",
    "You will put your agent to the test in the VISTA environment, and potentially, on board a full-scale autonomous vehicle! Specifically, as part of the MIT lab competitions, high-performing agents -- evaluated based on the maximum distance they can travel without crashing -- will have the opportunity to be put to the ***real*** test onboard a full-scale autonomous vehicle!!! \n",
    "\n",
    "We start by installing dependencies. This includes installing the VISTA package itself."
   ]
  },
  {
   "cell_type": "code",
   "execution_count": 24,
   "metadata": {
    "id": "WKWcagMpRLIB"
   },
   "outputs": [
    {
     "name": "stdout",
     "output_type": "stream",
     "text": [
      "Collecting git+https://github.com/vista-simulator/vista-6s191.git\n",
      "  Cloning https://github.com/vista-simulator/vista-6s191.git to /tmp/pip-req-build-_jdk7qk3\n",
      "  Running command git clone --filter=blob:none --quiet https://github.com/vista-simulator/vista-6s191.git /tmp/pip-req-build-_jdk7qk3\n",
      "  Resolved https://github.com/vista-simulator/vista-6s191.git to commit 9f74121ebea4800ff162836bdd684a32d4ee319f\n",
      "  Preparing metadata (setup.py) ... \u001b[?25ldone\n",
      "\u001b[?25h"
     ]
    }
   ],
   "source": [
    "!pip install --upgrade git+https://github.com/vista-simulator/vista-6s191.git"
   ]
  },
  {
   "cell_type": "code",
   "execution_count": 27,
   "metadata": {
    "id": "ByV6c5GKTgHq"
   },
   "outputs": [],
   "source": [
    "import vista\n",
    "from vista.utils import logging\n",
    "logging.setLevel(logging.ERROR)"
   ]
  },
  {
   "cell_type": "markdown",
   "metadata": {
    "id": "70Vpby5VJ9Bp"
   },
   "source": [
    "VISTA provides some documentation which will be very helpful to completing this lab. You can always use the `?vista` command to access the package documentation."
   ]
  },
  {
   "cell_type": "code",
   "execution_count": 28,
   "metadata": {
    "id": "-RTw0OK4nTYi"
   },
   "outputs": [
    {
     "data": {
      "text/plain": [
       "\u001b[0;31mInit signature:\u001b[0m\n",
       "\u001b[0mvista\u001b[0m\u001b[0;34m.\u001b[0m\u001b[0mDisplay\u001b[0m\u001b[0;34m(\u001b[0m\u001b[0;34m\u001b[0m\n",
       "\u001b[0;34m\u001b[0m    \u001b[0mworld\u001b[0m\u001b[0;34m:\u001b[0m \u001b[0mvista\u001b[0m\u001b[0;34m.\u001b[0m\u001b[0mcore\u001b[0m\u001b[0;34m.\u001b[0m\u001b[0mWorld\u001b[0m\u001b[0;34m.\u001b[0m\u001b[0mWorld\u001b[0m\u001b[0;34m,\u001b[0m\u001b[0;34m\u001b[0m\n",
       "\u001b[0;34m\u001b[0m    \u001b[0mfps\u001b[0m\u001b[0;34m:\u001b[0m \u001b[0mUnion\u001b[0m\u001b[0;34m[\u001b[0m\u001b[0mfloat\u001b[0m\u001b[0;34m,\u001b[0m \u001b[0mNoneType\u001b[0m\u001b[0;34m]\u001b[0m \u001b[0;34m=\u001b[0m \u001b[0;36m30\u001b[0m\u001b[0;34m,\u001b[0m\u001b[0;34m\u001b[0m\n",
       "\u001b[0;34m\u001b[0m    \u001b[0mdisplay_config\u001b[0m\u001b[0;34m:\u001b[0m \u001b[0mUnion\u001b[0m\u001b[0;34m[\u001b[0m\u001b[0mDict\u001b[0m\u001b[0;34m,\u001b[0m \u001b[0mNoneType\u001b[0m\u001b[0;34m]\u001b[0m \u001b[0;34m=\u001b[0m \u001b[0;34m{\u001b[0m\u001b[0;34m}\u001b[0m\u001b[0;34m,\u001b[0m\u001b[0;34m\u001b[0m\n",
       "\u001b[0;34m\u001b[0m\u001b[0;34m)\u001b[0m\u001b[0;34m\u001b[0m\u001b[0;34m\u001b[0m\u001b[0m\n",
       "\u001b[0;31mDocstring:\u001b[0m     \n",
       "This is a visualizer of VISTA simulator. It renders an image that contains visualization\n",
       "of all sensors from all agents and a top-down view that depicts road and all cars in the scene\n",
       "within a predefined range based on the state of the simulator (:class:`World`).\n",
       "\n",
       "Args:\n",
       "    world (vista.core.World): World to be visualized.\n",
       "    fps (int): Frame per second.\n",
       "    display_config (Dict): Configuration for the display (visualization).\n",
       "\n",
       "Raises:\n",
       "    AssertionError: Grid spec is inconsistent with maximal number of sensors across agents.\n",
       "\n",
       "Example usage::\n",
       "\n",
       "    >>> display_config = {\n",
       "        'road_buffer_size': 200,\n",
       "        'birdseye_map_size': (30, 20), # size of bev map in vertical and horizontal directions\n",
       "        'gs_bev_w': 2, # grid spec width for the birdseye view block\n",
       "        'gs_agent_w': 4, # grid spec width for an agent's block\n",
       "        'gs_h': 6, # grid spec height\n",
       "        'gui_scale': 1.0, # a global scale that determines the size of the figure\n",
       "        'vis_full_frame': False, # if Display should not crop/resize camera for visualization purposes\n",
       "    }\n",
       "    >>> display = Display(world, )\n",
       "\u001b[0;31mFile:\u001b[0m           ~/Data/lapadula-git/AI-ML/pyenvs/ai-ml-venv/lib/python3.8/site-packages/vista/core/Display.py\n",
       "\u001b[0;31mType:\u001b[0m           type\n",
       "\u001b[0;31mSubclasses:\u001b[0m     \n"
      ]
     },
     "metadata": {},
     "output_type": "display_data"
    }
   ],
   "source": [
    "### Access documentation for VISTA\n",
    "### Run ?vista.<[name of module or function]>\n",
    "?vista.Display "
   ]
  },
  {
   "cell_type": "markdown",
   "metadata": {
    "id": "XauFMMZjnYxn"
   },
   "source": [
    "## 3.6 Create an environment in VISTA\n",
    "\n",
    "Environments in VISTA are based on and built from human-collected driving *traces*. A trace is the data from a single driving run. In this case we'll be working with RGB camera data, from the viewpoint of the driver looking out at the road: the camera collects this data as the car drives around!\n",
    "\n",
    "We will start by accessing a trace. We use that trace to instantiate an environment within VISTA. This is our `World` and defines the environment we will use for reinforcement learning. The trace itself helps to define a space for the environment; with VISTA, we can use the trace to generate new photorealistic viewpoints anywhere within that space. This provides valuable new training data as well as a robust testing environment.\n",
    "\n",
    "The simulated environment of VISTA will serve as our training ground and testbed for reinforcement learning. We also define an `Agent` -- a car -- that will actually move around in the environmnet, and make and carry out *actions* in this world. Because this is an entirely simulated environment, our car agent will also be simulated!\n",
    "\n"
   ]
  },
  {
   "cell_type": "code",
   "execution_count": 30,
   "metadata": {
    "id": "JrTpTBJsJ9Bp",
    "scrolled": true
   },
   "outputs": [],
   "source": [
    "# Download and extract the data for vista (auto-skip if already downloaded)\n",
    "!wget -nc -q --show-progress https://www.dropbox.com/s/62pao4mipyzk3xu/vista_traces.zip\n",
    "print(\"Unzipping data...\")\n",
    "!unzip -o -q vista_traces.zip\n",
    "print(\"Done downloading and unzipping data!\")"
   ]
  },
  {
   "cell_type": "code",
   "execution_count": 31,
   "metadata": {
    "id": "JrTpTBJsJ9Bp",
    "scrolled": true
   },
   "outputs": [
    {
     "ename": "ValueError",
     "evalue": "Invalid device ID (0)",
     "output_type": "error",
     "traceback": [
      "\u001b[0;31m---------------------------------------------------------------------------\u001b[0m",
      "\u001b[0;31mValueError\u001b[0m                                Traceback (most recent call last)",
      "Input \u001b[0;32mIn [31]\u001b[0m, in \u001b[0;36m<module>\u001b[0;34m\u001b[0m\n\u001b[1;32m     15\u001b[0m car \u001b[38;5;241m=\u001b[39m world\u001b[38;5;241m.\u001b[39mspawn_agent(\n\u001b[1;32m     16\u001b[0m     config\u001b[38;5;241m=\u001b[39m{\n\u001b[1;32m     17\u001b[0m         \u001b[38;5;124m'\u001b[39m\u001b[38;5;124mlength\u001b[39m\u001b[38;5;124m'\u001b[39m: \u001b[38;5;241m5.\u001b[39m,\n\u001b[0;32m   (...)\u001b[0m\n\u001b[1;32m     21\u001b[0m         \u001b[38;5;124m'\u001b[39m\u001b[38;5;124mlookahead_road\u001b[39m\u001b[38;5;124m'\u001b[39m: \u001b[38;5;28;01mTrue\u001b[39;00m\n\u001b[1;32m     22\u001b[0m     })\n\u001b[1;32m     24\u001b[0m \u001b[38;5;66;03m# Create a camera on the car for synthesizing the sensor data that we can use to train with! \u001b[39;00m\n\u001b[0;32m---> 25\u001b[0m camera \u001b[38;5;241m=\u001b[39m \u001b[43mcar\u001b[49m\u001b[38;5;241;43m.\u001b[39;49m\u001b[43mspawn_camera\u001b[49m\u001b[43m(\u001b[49m\u001b[43mconfig\u001b[49m\u001b[38;5;241;43m=\u001b[39;49m\u001b[43m{\u001b[49m\u001b[38;5;124;43m'\u001b[39;49m\u001b[38;5;124;43msize\u001b[39;49m\u001b[38;5;124;43m'\u001b[39;49m\u001b[43m:\u001b[49m\u001b[43m \u001b[49m\u001b[43m(\u001b[49m\u001b[38;5;241;43m200\u001b[39;49m\u001b[43m,\u001b[49m\u001b[43m \u001b[49m\u001b[38;5;241;43m320\u001b[39;49m\u001b[43m)\u001b[49m\u001b[43m}\u001b[49m\u001b[43m)\u001b[49m\n\u001b[1;32m     27\u001b[0m \u001b[38;5;66;03m# Define a rendering display so we can visualize the simulated car camera stream and also \u001b[39;00m\n\u001b[1;32m     28\u001b[0m \u001b[38;5;66;03m#   get see its physical location with respect to the road in its environment. \u001b[39;00m\n\u001b[1;32m     29\u001b[0m display \u001b[38;5;241m=\u001b[39m vista\u001b[38;5;241m.\u001b[39mDisplay(world, display_config\u001b[38;5;241m=\u001b[39m{\u001b[38;5;124m\"\u001b[39m\u001b[38;5;124mgui_scale\u001b[39m\u001b[38;5;124m\"\u001b[39m: \u001b[38;5;241m2\u001b[39m, \u001b[38;5;124m\"\u001b[39m\u001b[38;5;124mvis_full_frame\u001b[39m\u001b[38;5;124m\"\u001b[39m: \u001b[38;5;28;01mFalse\u001b[39;00m})\n",
      "File \u001b[0;32m~/Data/lapadula-git/AI-ML/pyenvs/ai-ml-venv/lib/python3.8/site-packages/vista/entities/agents/Car.py:118\u001b[0m, in \u001b[0;36mCar.spawn_camera\u001b[0;34m(self, config)\u001b[0m\n\u001b[1;32m    116\u001b[0m name \u001b[38;5;241m=\u001b[39m config\u001b[38;5;241m.\u001b[39mget(\u001b[38;5;124m'\u001b[39m\u001b[38;5;124mname\u001b[39m\u001b[38;5;124m'\u001b[39m, \u001b[38;5;28;01mNone\u001b[39;00m)\n\u001b[1;32m    117\u001b[0m logging\u001b[38;5;241m.\u001b[39minfo(\u001b[38;5;124mf\u001b[39m\u001b[38;5;124m'\u001b[39m\u001b[38;5;124mSpawn a new camera \u001b[39m\u001b[38;5;132;01m{\u001b[39;00mname\u001b[38;5;132;01m}\u001b[39;00m\u001b[38;5;124m in car (\u001b[39m\u001b[38;5;132;01m{\u001b[39;00m\u001b[38;5;28mself\u001b[39m\u001b[38;5;241m.\u001b[39mid\u001b[38;5;132;01m}\u001b[39;00m\u001b[38;5;124m)\u001b[39m\u001b[38;5;124m'\u001b[39m)\n\u001b[0;32m--> 118\u001b[0m cam \u001b[38;5;241m=\u001b[39m \u001b[43mCamera\u001b[49m\u001b[43m(\u001b[49m\u001b[43mattach_to\u001b[49m\u001b[38;5;241;43m=\u001b[39;49m\u001b[38;5;28;43mself\u001b[39;49m\u001b[43m,\u001b[49m\u001b[43m \u001b[49m\u001b[43mconfig\u001b[49m\u001b[38;5;241;43m=\u001b[39;49m\u001b[43mconfig\u001b[49m\u001b[43m)\u001b[49m\n\u001b[1;32m    119\u001b[0m \u001b[38;5;28mself\u001b[39m\u001b[38;5;241m.\u001b[39m_sensors\u001b[38;5;241m.\u001b[39mappend(cam)\n\u001b[1;32m    121\u001b[0m \u001b[38;5;28;01mreturn\u001b[39;00m cam\n",
      "File \u001b[0;32m~/Data/lapadula-git/AI-ML/pyenvs/ai-ml-venv/lib/python3.8/site-packages/vista/entities/sensors/Camera.py:69\u001b[0m, in \u001b[0;36mCamera.__init__\u001b[0;34m(self, attach_to, config)\u001b[0m\n\u001b[1;32m     67\u001b[0m \u001b[38;5;28mself\u001b[39m\u001b[38;5;241m.\u001b[39m_flow_meta: Dict[\u001b[38;5;28mstr\u001b[39m, h5py\u001b[38;5;241m.\u001b[39mFile] \u001b[38;5;241m=\u001b[39m \u001b[38;5;28mdict\u001b[39m()\n\u001b[1;32m     68\u001b[0m \u001b[38;5;28;01mif\u001b[39;00m \u001b[38;5;28mself\u001b[39m\u001b[38;5;241m.\u001b[39m_config\u001b[38;5;241m.\u001b[39mget(\u001b[38;5;124m'\u001b[39m\u001b[38;5;124muse_synthesizer\u001b[39m\u001b[38;5;124m'\u001b[39m, \u001b[38;5;28;01mTrue\u001b[39;00m):\n\u001b[0;32m---> 69\u001b[0m     \u001b[38;5;28mself\u001b[39m\u001b[38;5;241m.\u001b[39m_view_synthesis: ViewSynthesis \u001b[38;5;241m=\u001b[39m \u001b[43mViewSynthesis\u001b[49m\u001b[43m(\u001b[49m\n\u001b[1;32m     70\u001b[0m \u001b[43m        \u001b[49m\u001b[38;5;28;43mself\u001b[39;49m\u001b[38;5;241;43m.\u001b[39;49m\u001b[43m_virtual_cam\u001b[49m\u001b[43m,\u001b[49m\u001b[43m \u001b[49m\u001b[38;5;28;43mself\u001b[39;49m\u001b[38;5;241;43m.\u001b[39;49m\u001b[43m_config\u001b[49m\u001b[43m)\u001b[49m\n\u001b[1;32m     71\u001b[0m \u001b[38;5;28;01melse\u001b[39;00m:\n\u001b[1;32m     72\u001b[0m     \u001b[38;5;28mself\u001b[39m\u001b[38;5;241m.\u001b[39m_view_synthesis \u001b[38;5;241m=\u001b[39m \u001b[38;5;28;01mNone\u001b[39;00m\n",
      "File \u001b[0;32m~/Data/lapadula-git/AI-ML/pyenvs/ai-ml-venv/lib/python3.8/site-packages/vista/entities/sensors/camera_utils/ViewSynthesis.py:55\u001b[0m, in \u001b[0;36mViewSynthesis.__init__\u001b[0;34m(self, camera_param, config, init_with_bg_mesh)\u001b[0m\n\u001b[1;32m     51\u001b[0m     \u001b[38;5;28mself\u001b[39m\u001b[38;5;241m.\u001b[39m_config[\u001b[38;5;124m'\u001b[39m\u001b[38;5;124mdepth_mode\u001b[39m\u001b[38;5;124m'\u001b[39m] \u001b[38;5;241m=\u001b[39m \u001b[38;5;28mgetattr\u001b[39m(DepthModes,\n\u001b[1;32m     52\u001b[0m                                          \u001b[38;5;28mself\u001b[39m\u001b[38;5;241m.\u001b[39m_config[\u001b[38;5;124m'\u001b[39m\u001b[38;5;124mdepth_mode\u001b[39m\u001b[38;5;124m'\u001b[39m])\n\u001b[1;32m     54\u001b[0m \u001b[38;5;66;03m# Renderer and scene\u001b[39;00m\n\u001b[0;32m---> 55\u001b[0m \u001b[38;5;28mself\u001b[39m\u001b[38;5;241m.\u001b[39m_renderer \u001b[38;5;241m=\u001b[39m \u001b[43mpyrender\u001b[49m\u001b[38;5;241;43m.\u001b[39;49m\u001b[43mOffscreenRenderer\u001b[49m\u001b[43m(\u001b[49m\n\u001b[1;32m     56\u001b[0m \u001b[43m    \u001b[49m\u001b[38;5;28;43mself\u001b[39;49m\u001b[38;5;241;43m.\u001b[39;49m\u001b[43m_camera_param\u001b[49m\u001b[38;5;241;43m.\u001b[39;49m\u001b[43mget_width\u001b[49m\u001b[43m(\u001b[49m\u001b[43m)\u001b[49m\u001b[43m,\u001b[49m\u001b[43m \u001b[49m\u001b[38;5;28;43mself\u001b[39;49m\u001b[38;5;241;43m.\u001b[39;49m\u001b[43m_camera_param\u001b[49m\u001b[38;5;241;43m.\u001b[39;49m\u001b[43mget_height\u001b[49m\u001b[43m(\u001b[49m\u001b[43m)\u001b[49m\u001b[43m)\u001b[49m\n\u001b[1;32m     57\u001b[0m \u001b[38;5;28mself\u001b[39m\u001b[38;5;241m.\u001b[39m_scene \u001b[38;5;241m=\u001b[39m pyrender\u001b[38;5;241m.\u001b[39mScene(ambient_light\u001b[38;5;241m=\u001b[39m[\u001b[38;5;241m1.\u001b[39m, \u001b[38;5;241m1.\u001b[39m, \u001b[38;5;241m1.\u001b[39m],\n\u001b[1;32m     58\u001b[0m                              bg_color\u001b[38;5;241m=\u001b[39m[\u001b[38;5;241m0\u001b[39m, \u001b[38;5;241m0\u001b[39m, \u001b[38;5;241m0\u001b[39m])\n\u001b[1;32m     60\u001b[0m \u001b[38;5;66;03m# Camera for rendering\u001b[39;00m\n",
      "File \u001b[0;32m~/Data/lapadula-git/AI-ML/pyenvs/ai-ml-venv/lib/python3.8/site-packages/pyrender/offscreen.py:31\u001b[0m, in \u001b[0;36mOffscreenRenderer.__init__\u001b[0;34m(self, viewport_width, viewport_height, point_size)\u001b[0m\n\u001b[1;32m     29\u001b[0m \u001b[38;5;28mself\u001b[39m\u001b[38;5;241m.\u001b[39m_platform \u001b[38;5;241m=\u001b[39m \u001b[38;5;28;01mNone\u001b[39;00m\n\u001b[1;32m     30\u001b[0m \u001b[38;5;28mself\u001b[39m\u001b[38;5;241m.\u001b[39m_renderer \u001b[38;5;241m=\u001b[39m \u001b[38;5;28;01mNone\u001b[39;00m\n\u001b[0;32m---> 31\u001b[0m \u001b[38;5;28;43mself\u001b[39;49m\u001b[38;5;241;43m.\u001b[39;49m\u001b[43m_create\u001b[49m\u001b[43m(\u001b[49m\u001b[43m)\u001b[49m\n",
      "File \u001b[0;32m~/Data/lapadula-git/AI-ML/pyenvs/ai-ml-venv/lib/python3.8/site-packages/pyrender/offscreen.py:137\u001b[0m, in \u001b[0;36mOffscreenRenderer._create\u001b[0;34m(self)\u001b[0m\n\u001b[1;32m    135\u001b[0m     \u001b[38;5;28;01mfrom\u001b[39;00m \u001b[38;5;21;01mpyrender\u001b[39;00m\u001b[38;5;21;01m.\u001b[39;00m\u001b[38;5;21;01mplatforms\u001b[39;00m \u001b[38;5;28;01mimport\u001b[39;00m egl\n\u001b[1;32m    136\u001b[0m     device_id \u001b[38;5;241m=\u001b[39m \u001b[38;5;28mint\u001b[39m(os\u001b[38;5;241m.\u001b[39menviron\u001b[38;5;241m.\u001b[39mget(\u001b[38;5;124m'\u001b[39m\u001b[38;5;124mEGL_DEVICE_ID\u001b[39m\u001b[38;5;124m'\u001b[39m, \u001b[38;5;124m'\u001b[39m\u001b[38;5;124m0\u001b[39m\u001b[38;5;124m'\u001b[39m))\n\u001b[0;32m--> 137\u001b[0m     egl_device \u001b[38;5;241m=\u001b[39m \u001b[43megl\u001b[49m\u001b[38;5;241;43m.\u001b[39;49m\u001b[43mget_device_by_index\u001b[49m\u001b[43m(\u001b[49m\u001b[43mdevice_id\u001b[49m\u001b[43m)\u001b[49m\n\u001b[1;32m    138\u001b[0m     \u001b[38;5;28mself\u001b[39m\u001b[38;5;241m.\u001b[39m_platform \u001b[38;5;241m=\u001b[39m egl\u001b[38;5;241m.\u001b[39mEGLPlatform(\u001b[38;5;28mself\u001b[39m\u001b[38;5;241m.\u001b[39mviewport_width,\n\u001b[1;32m    139\u001b[0m                                      \u001b[38;5;28mself\u001b[39m\u001b[38;5;241m.\u001b[39mviewport_height,\n\u001b[1;32m    140\u001b[0m                                      device\u001b[38;5;241m=\u001b[39megl_device)\n\u001b[1;32m    141\u001b[0m \u001b[38;5;28;01melif\u001b[39;00m os\u001b[38;5;241m.\u001b[39menviron[\u001b[38;5;124m'\u001b[39m\u001b[38;5;124mPYOPENGL_PLATFORM\u001b[39m\u001b[38;5;124m'\u001b[39m] \u001b[38;5;241m==\u001b[39m \u001b[38;5;124m'\u001b[39m\u001b[38;5;124mosmesa\u001b[39m\u001b[38;5;124m'\u001b[39m:\n",
      "File \u001b[0;32m~/Data/lapadula-git/AI-ML/pyenvs/ai-ml-venv/lib/python3.8/site-packages/pyrender/platforms/egl.py:83\u001b[0m, in \u001b[0;36mget_device_by_index\u001b[0;34m(device_id)\u001b[0m\n\u001b[1;32m     81\u001b[0m devices \u001b[38;5;241m=\u001b[39m query_devices()\n\u001b[1;32m     82\u001b[0m \u001b[38;5;28;01mif\u001b[39;00m device_id \u001b[38;5;241m>\u001b[39m\u001b[38;5;241m=\u001b[39m \u001b[38;5;28mlen\u001b[39m(devices):\n\u001b[0;32m---> 83\u001b[0m     \u001b[38;5;28;01mraise\u001b[39;00m \u001b[38;5;167;01mValueError\u001b[39;00m(\u001b[38;5;124m'\u001b[39m\u001b[38;5;124mInvalid device ID (\u001b[39m\u001b[38;5;132;01m{}\u001b[39;00m\u001b[38;5;124m)\u001b[39m\u001b[38;5;124m'\u001b[39m\u001b[38;5;241m.\u001b[39mformat(device_id, \u001b[38;5;28mlen\u001b[39m(devices)))\n\u001b[1;32m     84\u001b[0m \u001b[38;5;28;01mreturn\u001b[39;00m devices[device_id]\n",
      "\u001b[0;31mValueError\u001b[0m: Invalid device ID (0)"
     ]
    }
   ],
   "source": [
    "trace_root = \"./vista_traces\"\n",
    "trace_path = [\n",
    "    \"20210726-154641_lexus_devens_center\", \n",
    "    \"20210726-155941_lexus_devens_center_reverse\", \n",
    "    \"20210726-184624_lexus_devens_center\", \n",
    "    \"20210726-184956_lexus_devens_center_reverse\", \n",
    "]\n",
    "trace_path = [os.path.join(trace_root, p) for p in trace_path]\n",
    "\n",
    "# Create a virtual world with VISTA, the world is defined by a series of data traces\n",
    "world = vista.World(trace_path, trace_config={'road_width': 4})\n",
    "\n",
    "# Create a car in our virtual world. The car will be able to step and take different \n",
    "#   control actions. As the car moves, its sensors will simulate any changes it environment\n",
    "car = world.spawn_agent(\n",
    "    config={\n",
    "        'length': 5.,\n",
    "        'width': 2.,\n",
    "        'wheel_base': 2.78,\n",
    "        'steering_ratio': 14.7,\n",
    "        'lookahead_road': True\n",
    "    })\n",
    "\n",
    "# Create a camera on the car for synthesizing the sensor data that we can use to train with! \n",
    "camera = car.spawn_camera(config={'size': (200, 320)})\n",
    "\n",
    "# Define a rendering display so we can visualize the simulated car camera stream and also \n",
    "#   get see its physical location with respect to the road in its environment. \n",
    "display = vista.Display(world, display_config={\"gui_scale\": 2, \"vis_full_frame\": False})\n",
    "\n",
    "# Define a simple helper function that allows us to reset VISTA and the rendering display\n",
    "def vista_reset():\n",
    "    world.reset()\n",
    "    display.reset()\n",
    "vista_reset()"
   ]
  },
  {
   "cell_type": "markdown",
   "metadata": {
    "id": "aa3sA9FKndIx"
   },
   "source": [
    "If successful, you should see a blank black screen at this point. Your rendering display has  been initialized."
   ]
  },
  {
   "cell_type": "markdown",
   "metadata": {
    "id": "rNzwTTwzngQH"
   },
   "source": [
    "## 3.7 Our virtual agent: the car\n",
    "\n",
    "Our goal is to learn a control policy for our agent, our (hopefully) autonomous vehicle, end-to-end directly from RGB camera sensory input. As in Cartpole, we need to define how our virtual agent will interact with its environment.\n",
    "\n",
    "### Define agent's action functions\n",
    "In the case of driving, the car agent can act -- taking a step in the VISTA environment -- according to a given control command. This amounts to moving with a desired speed and a desired *curvature*, which reflects the car's turn radius. Curvature has units $\\frac{1}{meter}$. So, if a car is traversing a circle of radius $r$ meters, then it is turning with a curvature $\\frac{1}{r}$. The curvature is therefore correlated with the car's steering wheel angle, which actually controls its turn radius. Let's define the car agent's step function to capture the action of moving with a desired speed and desired curvature."
   ]
  },
  {
   "cell_type": "code",
   "execution_count": null,
   "metadata": {
    "id": "ZjFecj3WJ9Bp"
   },
   "outputs": [],
   "source": [
    "# First we define a step function, to allow our virtual agent to step \n",
    "# with a given control command through the environment \n",
    "# agent can act with a desired curvature (turning radius, like steering angle)\n",
    "# and desired speed. if either is not provided then this step function will \n",
    "# use whatever the human executed at that time in the real data.\n",
    "\n",
    "def vista_step(curvature=None, speed=None):\n",
    "    # Arguments:\n",
    "    #   curvature: curvature to step with\n",
    "    #   speed: speed to step with\n",
    "    if curvature is None: \n",
    "        curvature = car.trace.f_curvature(car.timestamp)\n",
    "    if speed is None: \n",
    "        speed = car.trace.f_speed(car.timestamp)\n",
    "    \n",
    "    car.step_dynamics(action=np.array([curvature, speed]), dt=1/15.)\n",
    "    car.step_sensors()"
   ]
  },
  {
   "cell_type": "markdown",
   "metadata": {
    "id": "aRmV3GtkJ9Bp"
   },
   "source": [
    "### Inspect driving trajectories in VISTA\n",
    "\n",
    "Recall that our VISTA environment is based off an initial human-collected driving trace. Also, we defined the agent's step function to defer to what the human executed if it is not provided with a desired speed and curvature with which to move.\n",
    "\n",
    "Thus, we can further inspect our environment by using the step function for the driving agent to move through the environment by following the human path. The stepping and iteration will take about 1 iteration per second. We will then observe the data that comes out to see the agent's traversal of the environment."
   ]
  },
  {
   "cell_type": "code",
   "execution_count": null,
   "metadata": {
    "id": "rp8G7eirJ9Bp"
   },
   "outputs": [],
   "source": [
    "import shutil, os, subprocess, cv2\n",
    "\n",
    "# Create a simple helper class that will assist us in storing videos of the render\n",
    "class VideoStream():\n",
    "    def __init__(self):\n",
    "        self.tmp = \"./tmp\"\n",
    "        if os.path.exists(self.tmp) and os.path.isdir(self.tmp):\n",
    "            shutil.rmtree(self.tmp)\n",
    "        os.mkdir(self.tmp)\n",
    "    def write(self, image, index):\n",
    "        cv2.imwrite(os.path.join(self.tmp, f\"{index:04}.png\"), image)\n",
    "    def save(self, fname):\n",
    "        cmd = f\"/usr/bin/ffmpeg -f image2 -i {self.tmp}/%04d.png -crf 0 -y {fname}\"\n",
    "        subprocess.call(cmd, shell=True)\n",
    "        "
   ]
  },
  {
   "cell_type": "code",
   "execution_count": null,
   "metadata": {
    "id": "MlC5t0dyJ9Bq",
    "scrolled": true
   },
   "outputs": [],
   "source": [
    "## Render and inspect a human trace ##\n",
    "\n",
    "vista_reset()\n",
    "stream = VideoStream()\n",
    "\n",
    "for i in tqdm(range(100)):\n",
    "    vista_step()\n",
    "    \n",
    "    # Render and save the display\n",
    "    vis_img = display.render()\n",
    "    stream.write(vis_img[:, :, ::-1], index=i)\n",
    "    if car.done: \n",
    "        break\n",
    "\n",
    "print(\"Saving trajectory of human following...\")\n",
    "stream.save(\"human_follow.mp4\")      \n",
    "mdl.lab3.play_video(\"human_follow.mp4\")"
   ]
  },
  {
   "cell_type": "markdown",
   "metadata": {
    "id": "SCeRDuqV-bye"
   },
   "source": [
    "Check out the simulated VISTA environment. What do you notice about the environment, the agent, and the setup of the simulation engine? How could these aspects useful for training models?"
   ]
  },
  {
   "cell_type": "markdown",
   "metadata": {
    "id": "CvJCRINbJ9Bq"
   },
   "source": [
    "### Define terminal states: crashing! (oh no)\n",
    "\n",
    "Recall from Cartpole, our training episodes ended when the pole toppled, i.e., the agent crashed and failed. Similarly for training vehicle control policies in VISTA, we have to define what a ***crash*** means. We will define a crash as any time the car moves out of its lane or exceeds its maximum rotation. This will define the end of a training episode."
   ]
  },
  {
   "cell_type": "code",
   "execution_count": null,
   "metadata": {
    "id": "2_6U_VAFJ9Bq"
   },
   "outputs": [],
   "source": [
    "## Define terminal states and crashing conditions ##\n",
    "\n",
    "def check_out_of_lane(car):\n",
    "    distance_from_center = np.abs(car.relative_state.x)\n",
    "    road_width = car.trace.road_width \n",
    "    half_road_width = road_width / 2\n",
    "    return distance_from_center > half_road_width\n",
    "\n",
    "def check_exceed_max_rot(car):\n",
    "    maximal_rotation = np.pi / 10.\n",
    "    current_rotation = np.abs(car.relative_state.yaw)\n",
    "    return current_rotation > maximal_rotation\n",
    "\n",
    "def check_crash(car): \n",
    "    return check_out_of_lane(car) or check_exceed_max_rot(car) or car.done"
   ]
  },
  {
   "cell_type": "markdown",
   "metadata": {
    "id": "YFXUZ8ppJ9Bq"
   },
   "source": [
    "### Quick check: acting with a random control policy\n",
    "\n",
    "At this point, we have (1) an environment; (2) an agent, with a step function. Before we start learning a control policy for our vehicle agent, we start by testing out the behavior of the agent in the virtual world by providing it with a completely random control policy. Naturally we expect that the behavior will not be very robust! Let's take a look."
   ]
  },
  {
   "cell_type": "code",
   "execution_count": null,
   "metadata": {
    "id": "ZIyI5MqwJ9Bq"
   },
   "outputs": [],
   "source": [
    "## Behavior with random control policy ##\n",
    "\n",
    "i = 0\n",
    "num_crashes = 5\n",
    "stream = VideoStream()\n",
    "\n",
    "for _ in range(num_crashes):\n",
    "    vista_reset()\n",
    "    \n",
    "    while not check_crash(car):\n",
    "\n",
    "        # Sample a random curvature (between +/- 1/3), keep speed constant\n",
    "        curvature = np.random.uniform(-1/3, 1/3)\n",
    "\n",
    "        # Step the simulated car with the same action\n",
    "        vista_step(curvature=curvature)\n",
    "\n",
    "        # Render and save the display\n",
    "        vis_img = display.render()\n",
    "        stream.write(vis_img[:, :, ::-1], index=i)\n",
    "        i += 1\n",
    "    \n",
    "    print(f\"Car crashed on step {i}\")\n",
    "    for _ in range(5):\n",
    "        stream.write(vis_img[:, :, ::-1], index=i)\n",
    "        i += 1\n",
    "\n",
    "print(\"Saving trajectory with random policy...\")\n",
    "stream.save(\"random_policy.mp4\")\n",
    "mdl.lab3.play_video(\"random_policy.mp4\")"
   ]
  },
  {
   "cell_type": "markdown",
   "metadata": {
    "id": "OL02qW5vJ9Br"
   },
   "source": [
    "## 3.8 Preparing to learn a control policy: data preprocessing\n",
    "\n",
    "So, hopefully you saw that the random control policy was, indeed, not very robust. Yikes. Our overall goal in this lab is to build a self-driving agent using a neural network controller trained entirely in the simulator VISTA. This means that the data used to train and test the self-driving agent will be supplied by VISTA. As a step towards this, we will do some data preprocessing to make it easier for the network to learn from these visual data.\n",
    "\n",
    "Previously we rendered the data with a display as a quick check that the environment was working properly. For training the agent, we will directly access the car's observations, extract Regions Of Interest (ROI) from those observations, crop them out, and use these crops as training data for our self-driving agent controller. Observe both the full observation and the extracted ROI."
   ]
  },
  {
   "cell_type": "code",
   "execution_count": null,
   "metadata": {
    "id": "4UxX6mk5J9Br"
   },
   "outputs": [],
   "source": [
    "from google.colab.patches import cv2_imshow\n",
    "\n",
    "# Directly access the raw sensor observations of the simulated car\n",
    "vista_reset()\n",
    "full_obs = car.observations[camera.name]\n",
    "cv2_imshow(full_obs)"
   ]
  },
  {
   "cell_type": "code",
   "execution_count": null,
   "metadata": {
    "id": "KAH-5uxrbkng"
   },
   "outputs": [],
   "source": [
    "## ROIs ##\n",
    "\n",
    "# Crop a smaller region of interest (ROI). This is necessary because: \n",
    "#   1. The full observation will have distortions on the edge as the car deviates from the human\n",
    "#   2. A smaller image of the environment will be easier for our model to learn from\n",
    "region_of_interest = camera.camera_param.get_roi()\n",
    "i1, j1, i2, j2 = region_of_interest\n",
    "cropped_obs = full_obs[i1:i2, j1:j2]\n",
    "cv2_imshow(cropped_obs)"
   ]
  },
  {
   "cell_type": "markdown",
   "metadata": {
    "id": "znxypklaJ9Br"
   },
   "source": [
    "We will group these steps into some helper functions that we can use during training: \n",
    "1. `preprocess`: takes a full observation as input and returns a preprocessed version. This can include whatever preprocessing steps you would like! For example, ROI extraction, cropping, augmentations, and so on. You are welcome to add and modify this function as you seek to optimize your self-driving agent!\n",
    "2. `grab_and_preprocess`: grab the car's current observation (i.e., image view from its perspective), and then call the `preprocess` function on that observation."
   ]
  },
  {
   "cell_type": "code",
   "execution_count": null,
   "metadata": {
    "id": "7GQY_UwSJ9Br"
   },
   "outputs": [],
   "source": [
    "## Data preprocessing functions ##\n",
    "\n",
    "def preprocess(full_obs):\n",
    "    # Extract ROI\n",
    "    i1, j1, i2, j2 = camera.camera_param.get_roi()\n",
    "    obs = full_obs[i1:i2, j1:j2]\n",
    "    \n",
    "    # Rescale to [0, 1]\n",
    "    obs = obs / 255.\n",
    "    return obs\n",
    "\n",
    "def grab_and_preprocess_obs(car):\n",
    "    full_obs = car.observations[camera.name]\n",
    "    obs = preprocess(full_obs)\n",
    "    return obs"
   ]
  },
  {
   "cell_type": "markdown",
   "metadata": {
    "id": "WAueY4PfJ9Br"
   },
   "source": [
    "## 3.9 Define the self-driving agent and learning algorithm\n",
    "\n",
    "As before, we'll use a neural network to define our agent and output actions that it will take. Fixing the agent's driving speed, we will train this network to predict a curvature -- a continuous value -- that will relate to the car's turn radius. Specifically, define the model to output a prediction of a continuous distribution of curvature, defined by a mean $\\mu$ and standard deviation $\\sigma$. These parameters will define a Normal distribution over curvature.\n",
    "\n",
    "What network architecture do you think would be especially well suited to the task of end-to-end control learning from RGB images? Since our observations are in the form of RGB images, we'll start with a convolutional network. Note that you will be tasked with completing a template CNN architecture for the self-driving car agent -- but you should certainly experiment beyond this template to try to optimize performance!"
   ]
  },
  {
   "cell_type": "code",
   "execution_count": null,
   "metadata": {
    "id": "f-pAQA7zJ9Br"
   },
   "outputs": [],
   "source": [
    "### Define the self-driving agent ###\n",
    "# Note: we start with a template CNN architecture -- experiment away as you \n",
    "#   try to optimize your agent!\n",
    "\n",
    "# Functionally define layers for convenience\n",
    "# All convolutional layers will have ReLu activation\n",
    "act = tf.keras.activations.swish\n",
    "Conv2D = functools.partial(tf.keras.layers.Conv2D, padding='valid', activation=act)\n",
    "Flatten = tf.keras.layers.Flatten\n",
    "Dense = tf.keras.layers.Dense\n",
    "\n",
    "# Defines a CNN for the self-driving agent\n",
    "def create_driving_model():\n",
    "    model = tf.keras.models.Sequential([\n",
    "        # Convolutional layers\n",
    "        # First, 32 5x5 filters and 2x2 stride\n",
    "        Conv2D(filters=32, kernel_size=5, strides=2),\n",
    "\n",
    "        # TODO: define convolutional layers with 48 5x5 filters and 2x2 stride\n",
    "        # Conv2D('''TODO'''),\n",
    "\n",
    "        # TODO: define two convolutional layers with 64 3x3 filters and 2x2 stride\n",
    "        # Conv2D('''TODO'''),\n",
    "\n",
    "        Flatten(),\n",
    "\n",
    "        # Fully connected layer and output\n",
    "        Dense(units=128, activation=act),\n",
    "        \n",
    "        # TODO: define the output dimension of the last Dense layer. \n",
    "        #    Pay attention to the space the agent needs to act in.\n",
    "        #    Remember that this model is outputing a distribution of *continuous* \n",
    "        #    actions, which take a different shape than discrete actions.\n",
    "        #    How many outputs should there be to define a distribution?'''\n",
    "\n",
    "        # Dense('''TODO''')\n",
    "\n",
    "    ])\n",
    "    return model\n",
    "\n",
    "driving_model = create_driving_model()"
   ]
  },
  {
   "cell_type": "markdown",
   "metadata": {
    "id": "hlyL0HL1J9Bs"
   },
   "source": [
    "Now we will define the learing algorithm which will be used to reinforce good behaviors of the agent and discourage bad behaviours. As with Cartpole, we will use a *policy gradient* method that aims to **maximize** the likelihood of actions that result in large rewards. However, there are some key differences. In Cartpole, the agent's action space was discrete: it could only move left or right. In driving, the agent's action space is continuous: the control network is outputting a curvature, which is a continuous variable. We will define a probability distribution, defined by a mean and variance, over this continuous action space to define the possible actions the self-driving agent can take.\n",
    "\n",
    "You will define three functions that reflect these changes and form the core of the the learning algorithm:\n",
    "1. `run_driving_model`: takes an input image, and outputs a prediction of a continuous distribution of curvature. This will take the form of a Normal distribuion and will be defined using TensorFlow probability's [`tfp.distributions.Normal`](https://www.tensorflow.org/probability/api_docs/python/tfp/distributions/Normal) function, so the model's prediction will include both a mean and variance. Operates on an instance `driving_model` defined above.\n",
    "2. `compute_driving_loss`: computes the loss for a prediction that is in the form of a continuous Normal distribution. Recall as in Cartpole, computing the loss involves multiplying the predicted log probabilities by the discounted rewards. Similar to `compute_loss` in Cartpole.\n",
    "\n",
    "The `train_step` function to use the loss function to execute a training step will be the same as we used in Cartpole! This will have to be executed abov in order for the driving agent to train properly."
   ]
  },
  {
   "cell_type": "code",
   "execution_count": null,
   "metadata": {
    "id": "-UWhFhToJ9Bs"
   },
   "outputs": [],
   "source": [
    "## The self-driving learning algorithm ##\n",
    "\n",
    "# hyperparameters\n",
    "max_curvature = 1/8. \n",
    "max_std = 0.1 \n",
    "\n",
    "def run_driving_model(image):\n",
    "    # Arguments:\n",
    "    #   image: an input image\n",
    "    # Returns:\n",
    "    #   pred_dist: predicted distribution of control actions \n",
    "    single_image_input = tf.rank(image) == 3  # missing 4th batch dimension\n",
    "    if single_image_input:\n",
    "        image = tf.expand_dims(image, axis=0)\n",
    "\n",
    "    '''TODO: get the prediction of the model given the current observation.'''    \n",
    "    # distribution = ''' TODO '''\n",
    "\n",
    "    mu, logsigma = tf.split(distribution, 2, axis=1)\n",
    "    mu = max_curvature * tf.tanh(mu) # conversion\n",
    "    sigma = max_std * tf.sigmoid(logsigma) + 0.005 # conversion\n",
    "    \n",
    "    '''TODO: define the predicted distribution of curvature, given the predicted\n",
    "    mean mu and standard deviation sigma. Use a Normal distribution as defined\n",
    "    in TF probability (hint: tfp.distributions)'''\n",
    "    # pred_dist = ''' TODO '''\n",
    "  \n",
    "    return pred_dist\n",
    "\n",
    "\n",
    "def compute_driving_loss(dist, actions, rewards):\n",
    "    # Arguments:\n",
    "    #   logits: network's predictions for actions to take\n",
    "    #   actions: the actions the agent took in an episode\n",
    "    #   rewards: the rewards the agent received in an episode\n",
    "    # Returns:\n",
    "    #   loss\n",
    "    '''TODO: complete the function call to compute the negative log probabilities\n",
    "    of the agent's actions.'''\n",
    "    # neg_logprob = '''TODO'''\n",
    "\n",
    "    '''TODO: scale the negative log probability by the rewards.'''\n",
    "    # loss = tf.reduce_mean('''TODO''')\n",
    "    return loss\n"
   ]
  },
  {
   "cell_type": "markdown",
   "metadata": {
    "id": "fCCMKLaIJ9Bs"
   },
   "source": [
    "## 3.10 Train the self-driving agent\n",
    "\n",
    "We're now all set up to start training our RL algorithm and agent for autonomous driving!\n",
    "\n",
    "We begin be initializing an opitimizer, environment, a new driving agent, and `Memory` buffer. This will be in the first code block. To restart training completely, you will need to re-run this cell to re-initiailize everything.\n",
    "\n",
    "The second code block is the main training script. Here reinforcement learning episodes will be executed by agents in the VISTA environment. Since the self-driving agent starts out with literally zero knowledge of its environment, it can often take a long time to train and achieve stable behavior -- keep this in mind! For convenience, stopping and restarting the second cell will pick up training where you left off.\n",
    "\n",
    "The training block will execute a policy in the environment until the agent crashes. When the agent crashes, the (state, action, reward) triplet `(s,a,r)` of the agent at the end of the episode will be saved into the `Memory` buffer, and then provided as input to the policy gradient loss function. This information will be used to execute optimization within the training step. Memory will be cleared, and we will then do it all over again!\n",
    "\n",
    "Let's run the code block to train our self-driving agent. We will again visualize the evolution of the total reward as a function of training to get a sense of how the agent is learning. **You should reach a reward of at least 100 to get bare minimum stable behavior.**"
   ]
  },
  {
   "cell_type": "code",
   "execution_count": null,
   "metadata": {
    "id": "uZGn94sJCtBb"
   },
   "outputs": [],
   "source": [
    "## Training parameters and initialization ##\n",
    "## Re-run this cell to restart training from scratch ##\n",
    "\n",
    "''' TODO: Learning rate and optimizer '''\n",
    "# learning_rate = '''TODO'''\n",
    "# optimizer = '''TODO'''\n",
    "\n",
    "# instantiate driving agent\n",
    "vista_reset()\n",
    "driving_model = create_driving_model()\n",
    "# NOTE: the variable driving_model will be used in run_driving_model execution\n",
    "\n",
    "# to track our progress\n",
    "smoothed_reward = mdl.util.LossHistory(smoothing_factor=0.9)\n",
    "plotter = mdl.util.PeriodicPlotter(sec=2, xlabel='Iterations', ylabel='Rewards')\n",
    "\n",
    "# instantiate Memory buffer\n",
    "memory = Memory()"
   ]
  },
  {
   "cell_type": "code",
   "execution_count": null,
   "metadata": {
    "id": "G8GhVvZQJ9Bs",
    "scrolled": true
   },
   "outputs": [],
   "source": [
    "## Driving training! Main training block. ##\n",
    "## Note: stopping and restarting this cell will pick up training where you\n",
    "#        left off. To restart training you need to rerun the cell above as \n",
    "#        well (to re-initialize the model and optimizer)\n",
    "\n",
    "max_batch_size = 300\n",
    "max_reward = float('-inf') # keep track of the maximum reward acheived during training\n",
    "if hasattr(tqdm, '_instances'): tqdm._instances.clear() # clear if it exists\n",
    "for i_episode in range(500):\n",
    "\n",
    "    plotter.plot(smoothed_reward.get())\n",
    "    # Restart the environment\n",
    "    vista_reset()\n",
    "    memory.clear()\n",
    "    observation = grab_and_preprocess_obs(car)\n",
    "\n",
    "    while True:\n",
    "        # TODO: using the car's current observation compute the desired \n",
    "        #  action (curvature) distribution by feeding it into our \n",
    "        #  driving model (use the function you already built to do this!) '''\n",
    "        # curvature_dist = '''TODO'''\n",
    "        \n",
    "        # TODO: sample from the action *distribution* to decide how to step\n",
    "        #   the car in the environment. You may want to check the documentation\n",
    "        #   for tfp.distributions.Normal online. Remember that the sampled action\n",
    "        #   should be a single scalar value after this step.\n",
    "        # curvature_action = '''TODO'''\n",
    "        \n",
    "        # Step the simulated car with the same action\n",
    "        vista_step(curvature_action)\n",
    "        observation = grab_and_preprocess_obs(car)\n",
    "               \n",
    "        # TODO: Compute the reward for this iteration. You define \n",
    "        #   the reward function for this policy, start with something \n",
    "        #   simple - for example, give a reward of 1 if the car did not \n",
    "        #   crash and a reward of 0 if it did crash.\n",
    "        #  reward = '''TODO'''\n",
    "        \n",
    "        # add to memory\n",
    "        memory.add_to_memory(observation, curvature_action, reward)\n",
    "        \n",
    "        # is the episode over? did you crash or do so well that you're done?\n",
    "        if reward == 0.0:\n",
    "            # determine total reward and keep a record of this\n",
    "            total_reward = sum(memory.rewards)\n",
    "            smoothed_reward.append(total_reward)\n",
    "            \n",
    "            # execute training step - remember we don't know anything about how the \n",
    "            #   agent is doing until it has crashed! if the training step is too large \n",
    "            #   we need to sample a mini-batch for this step.\n",
    "            batch_size = min(len(memory), max_batch_size)\n",
    "            i = np.random.choice(len(memory), batch_size, replace=False)\n",
    "            train_step(driving_model, compute_driving_loss, optimizer, \n",
    "                               observations=np.array(memory.observations)[i],\n",
    "                               actions=np.array(memory.actions)[i],\n",
    "                               discounted_rewards = discount_rewards(memory.rewards)[i], \n",
    "                               custom_fwd_fn=run_driving_model)            \n",
    "            # reset the memory\n",
    "            memory.clear()\n",
    "            break"
   ]
  },
  {
   "cell_type": "markdown",
   "metadata": {
    "id": "yevBnJCFJ9Bt"
   },
   "source": [
    "## 3.11 Evaluate the self-driving agent\n",
    "\n",
    "Finally we can put our trained self-driving agent to the test! It will execute autonomous control, in VISTA, based on the learned controller. We will evaluate how well it does based on this distance the car travels without crashing. We await the result..."
   ]
  },
  {
   "cell_type": "code",
   "execution_count": null,
   "metadata": {
    "id": "DzeswkSnJ9Bt",
    "scrolled": true
   },
   "outputs": [],
   "source": [
    "## Evaluation block!##\n",
    "\n",
    "i_step = 0\n",
    "num_episodes = 5\n",
    "num_reset = 5\n",
    "stream = VideoStream()\n",
    "for i_episode in range(num_episodes):\n",
    "    \n",
    "    # Restart the environment\n",
    "    vista_reset()\n",
    "    observation = grab_and_preprocess_obs(car)\n",
    "    \n",
    "    print(\"rolling out in env\")\n",
    "    episode_step = 0\n",
    "    while not check_crash(car) and episode_step < 100:\n",
    "        # using our observation, choose an action and take it in the environment\n",
    "        curvature_dist = run_driving_model(observation)\n",
    "        curvature = curvature_dist.mean()[0,0]\n",
    "\n",
    "        # Step the simulated car with the same action\n",
    "        vista_step(curvature)\n",
    "        observation = grab_and_preprocess_obs(car)\n",
    "\n",
    "        vis_img = display.render()\n",
    "        stream.write(vis_img[:, :, ::-1], index=i_step)\n",
    "        i_step += 1\n",
    "        episode_step += 1\n",
    "        \n",
    "    for _ in range(num_reset):\n",
    "        stream.write(np.zeros_like(vis_img), index=i_step)\n",
    "        i_step += 1\n",
    "        \n",
    "print(f\"Average reward: {(i_step - (num_reset*num_episodes)) / num_episodes}\")\n",
    "\n",
    "print(\"Saving trajectory with trained policy...\")\n",
    "stream.save(\"trained_policy.mp4\")\n",
    "mdl.lab3.play_video(\"trained_policy.mp4\")"
   ]
  },
  {
   "cell_type": "markdown",
   "metadata": {
    "id": "Dq6TZoYvoPyy"
   },
   "source": [
    "Congratulations for making it to this point and for training an autonomous vehicle control policy using deep neural networks and reinforcement learning! Now, with an eye towards the lab competition, think about what you can change -- about the controller model, your data, your learning algorithm... -- to improve performance even further. Below in 3.11 we have some suggestions to get you started. We hope to see your self-driving control policy put to the ***real*** test!"
   ]
  },
  {
   "cell_type": "markdown",
   "metadata": {
    "id": "6c6uO21GoRfw"
   },
   "source": [
    "## 3.11 Conclusion and submission information\n",
    "\n",
    "That's it! Congratulations on training two RL agents and putting them to the test! We encourage you to consider the following:\n",
    "\n",
    "* How does each agent perform?\n",
    "* How does the complexity of the self-driving car agent compare to CartPole, and how does it alter the rate at which the agent learns and its performance? \n",
    "* What are some things you could change about the agent or the learning process to potentially improve performance?\n",
    "\n",
    "Try to optimize your **self-driving car** model and algorithm to achieve improved performance.  **MIT students and affiliates will be eligible for prizes during the IAP offering. The prize for this lab includes an opportunity to test your model and algorithm onboard a full-scale autonomous vehicle in the real world.**\n",
    "\n",
    "To get you started, here are some suggested ways to improve your self-driving car model and/or RL algorithm:\n",
    "\n",
    "* different model architectures, for example recurrent models or Transformers with self-attention;\n",
    "* data augmentation and improved pre-processing;\n",
    "* different data modalities from different sensor types. VISTA also supports [LiDAR](https://driving.ca/car-culture/auto-tech/what-is-lidar-and-how-is-it-used-in-cars) and [event-based camera](https://arxiv.org/pdf/1804.01310.pdf) data, with a [new VISTA paper](https://arxiv.org/pdf/2111.12083.pdf) describing this. If you are interested in this, please contact Alexander Amini (amini@mit.edu)!\n",
    "* improved reinforcement learning algorithms, such as [PPO](https://paperswithcode.com/paper/proximal-policy-optimization-algorithms), [TRPO](https://paperswithcode.com/method/trpo), or [A3C](https://paperswithcode.com/method/a3c);\n",
    "* different reward functions for reinforcemnt learning, for example penalizing the car's distance to the lane center rather than just whether or not it crashed;\n",
    "* [Guided Policy Learning (GPL)](https://rll.berkeley.edu/gps/). Not reinforcement learning, but a powerful algorithm to leverage human data to provide additional supervision the learning task.\n",
    "\n",
    "To enter the competition, MIT students and affiliates should upload the following to the course Canvas:\n",
    "\n",
    "* Jupyter notebook with the code you used to generate your results, **with the self-driving car agent training fully executed**;\n",
    "* **saved video of your self-driving agent executing a trajectory in VISTA**;\n",
    "* printout / recording of the **maximum distance traveled by your agent** before crashing;\n",
    "* **text description and/or visual diagram** of the architecture, settings, algorithm, hyperparameters, etc you used to generate your result -- if there are any additional or interesting modifications you made to the template code, please include these in your description;\n",
    "* finally, **separate `.py` script** containing the code for your model, as well as **a function call to load your model and the final trained weights**. This will mean you will have to access and load the weights of your trained model in this script;\n",
    "\n",
    "We will evaluate your entries based on the above components, as well as potential real-time evaluation of top candidates in new VISTA environments with snow / winter traces. The link for these traces is [here](https://www.dropbox.com/s/3wxyvjfquloonqc/vista_traces_snow.zip). You are welcome to download this data and evaluate your models on it as well.\n",
    "\n",
    "Good luck!\n",
    "\n",
    "<p align=\"center\">\n",
    "<img src=\"https://media.giphy.com/media/H7rpSYHRyYgamxQNqw/giphy-downsized-large.gif\" width=\"700\"/>\n",
    "</p>"
   ]
  },
  {
   "cell_type": "code",
   "execution_count": null,
   "metadata": {
    "id": "ac8FNK-x8gNn"
   },
   "outputs": [],
   "source": []
  }
 ],
 "metadata": {
  "accelerator": "GPU",
  "colab": {
   "collapsed_sections": [
    "WoXYKhfZMHiw",
    "UT7YL8KBJIIc",
    "Eu6Mqxc720ST"
   ],
   "include_colab_link": true,
   "name": "RL.ipynb",
   "provenance": []
  },
  "kernelspec": {
   "display_name": "Python 3 (ipykernel)",
   "language": "python",
   "name": "python3"
  },
  "language_info": {
   "codemirror_mode": {
    "name": "ipython",
    "version": 3
   },
   "file_extension": ".py",
   "mimetype": "text/x-python",
   "name": "python",
   "nbconvert_exporter": "python",
   "pygments_lexer": "ipython3",
   "version": "3.8.10"
  }
 },
 "nbformat": 4,
 "nbformat_minor": 4
}
